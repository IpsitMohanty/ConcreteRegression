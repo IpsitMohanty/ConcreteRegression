{
 "cells": [
  {
   "cell_type": "markdown",
   "metadata": {},
   "source": [
    "<a href=\"https://cognitiveclass.ai\"><img src=\"https://cf-courses-data.s3.us.cloud-object-storage.appdomain.cloud/IBMDeveloperSkillsNetwork-DL0101EN-SkillsNetwork/images/IDSN-logo.png\" width=\"400\"> </a>\n",
    "\n",
    "# Regression Models with Keras\n",
    "\n",
    "Estimated time needed: **45** mins\n"
   ]
  },
  {
   "cell_type": "markdown",
   "metadata": {},
   "source": [
    "## Introduction\n"
   ]
  },
  {
   "cell_type": "markdown",
   "metadata": {},
   "source": [
    "As we discussed in the videos, despite the popularity of more powerful libraries such as PyToch and TensorFlow, they are not easy to use and have a steep learning curve. So, for people who are just starting to learn deep learning, there is no better library to use other than the Keras library. \n",
    "\n",
    "Keras is a high-level API for building deep learning models. It has gained favor for its ease of use and syntactic simplicity facilitating fast development. As you will see in this lab and the other labs in this course, building a very complex deep learning network can be achieved with Keras with only few lines of code. You will appreciate Keras even more, once you learn how to build deep models using PyTorch and TensorFlow in the other courses.\n",
    "\n",
    "So, in this lab, you will learn how to use the Keras library to build a regression model.\n"
   ]
  },
  {
   "cell_type": "markdown",
   "metadata": {},
   "source": [
    "## Objectives for this Notebook    \n",
    "* How to use the Keras library to build a regression model\n",
    "* Download and clean the data set\n",
    "* Build a neural network\n",
    "* Train and test the network     \n",
    "\n"
   ]
  },
  {
   "cell_type": "markdown",
   "metadata": {},
   "source": [
    "## Table of Contents\n",
    "\n",
    "<div class=\"alert alert-block alert-info\" style=\"margin-top: 20px\">\n",
    "\n",
    "<font size = 3>\n",
    "    \n",
    "1. <a href=\"#item31\">Download and Clean the Data Set</a>  \n",
    "2. <a href=\"#item32\">Import Keras Packages</a>\n",
    "3. <a href=\"#item33\">Build a Neural Network</a>\n",
    "4. <a href=\"#item34\">Train and Test the Network</a>  \n",
    "\n",
    "</font>\n",
    "</div>\n"
   ]
  },
  {
   "cell_type": "markdown",
   "metadata": {},
   "source": [
    "<a id=\"item31\"></a>\n"
   ]
  },
  {
   "cell_type": "markdown",
   "metadata": {},
   "source": [
    "## Download and Clean the  Data Set\n"
   ]
  },
  {
   "cell_type": "markdown",
   "metadata": {},
   "source": [
    "Let's start by importing the <em>pandas</em> and the Numpy libraries.\n"
   ]
  },
  {
   "cell_type": "code",
   "execution_count": 1,
   "metadata": {},
   "outputs": [
    {
     "name": "stdout",
     "output_type": "stream",
     "text": [
      "Collecting numpy==2.0.2\n",
      "  Downloading numpy-2.0.2-cp311-cp311-manylinux_2_17_x86_64.manylinux2014_x86_64.whl.metadata (60 kB)\n",
      "\u001b[2K     \u001b[90m━━━━━━━━━━━━━━━━━━━━━━━━━━━━━━━━━━━━━━━━\u001b[0m \u001b[32m60.9/60.9 kB\u001b[0m \u001b[31m7.6 MB/s\u001b[0m eta \u001b[36m0:00:00\u001b[0m\n",
      "\u001b[?25hDownloading numpy-2.0.2-cp311-cp311-manylinux_2_17_x86_64.manylinux2014_x86_64.whl (19.5 MB)\n",
      "\u001b[2K   \u001b[90m━━━━━━━━━━━━━━━━━━━━━━━━━━━━━━━━━━━━━━━━\u001b[0m \u001b[32m19.5/19.5 MB\u001b[0m \u001b[31m105.6 MB/s\u001b[0m eta \u001b[36m0:00:00\u001b[0m00:01\u001b[0m00:01\u001b[0m\n",
      "\u001b[?25hInstalling collected packages: numpy\n",
      "Successfully installed numpy-2.0.2\n",
      "Collecting pandas==2.2.2\n",
      "  Downloading pandas-2.2.2-cp311-cp311-manylinux_2_17_x86_64.manylinux2014_x86_64.whl.metadata (19 kB)\n",
      "Requirement already satisfied: numpy>=1.23.2 in /opt/conda/lib/python3.11/site-packages (from pandas==2.2.2) (2.0.2)\n",
      "Requirement already satisfied: python-dateutil>=2.8.2 in /opt/conda/lib/python3.11/site-packages (from pandas==2.2.2) (2.9.0)\n",
      "Requirement already satisfied: pytz>=2020.1 in /opt/conda/lib/python3.11/site-packages (from pandas==2.2.2) (2024.1)\n",
      "Collecting tzdata>=2022.7 (from pandas==2.2.2)\n",
      "  Downloading tzdata-2024.2-py2.py3-none-any.whl.metadata (1.4 kB)\n",
      "Requirement already satisfied: six>=1.5 in /opt/conda/lib/python3.11/site-packages (from python-dateutil>=2.8.2->pandas==2.2.2) (1.16.0)\n",
      "Downloading pandas-2.2.2-cp311-cp311-manylinux_2_17_x86_64.manylinux2014_x86_64.whl (13.0 MB)\n",
      "\u001b[2K   \u001b[90m━━━━━━━━━━━━━━━━━━━━━━━━━━━━━━━━━━━━━━━━\u001b[0m \u001b[32m13.0/13.0 MB\u001b[0m \u001b[31m110.2 MB/s\u001b[0m eta \u001b[36m0:00:00\u001b[0m00:01\u001b[0m0:01\u001b[0m\n",
      "\u001b[?25hDownloading tzdata-2024.2-py2.py3-none-any.whl (346 kB)\n",
      "\u001b[2K   \u001b[90m━━━━━━━━━━━━━━━━━━━━━━━━━━━━━━━━━━━━━━━━\u001b[0m \u001b[32m346.6/346.6 kB\u001b[0m \u001b[31m38.9 MB/s\u001b[0m eta \u001b[36m0:00:00\u001b[0m\n",
      "\u001b[?25hInstalling collected packages: tzdata, pandas\n",
      "Successfully installed pandas-2.2.2 tzdata-2024.2\n",
      "Collecting tensorflow_cpu==2.18.0\n",
      "  Downloading tensorflow_cpu-2.18.0-cp311-cp311-manylinux_2_17_x86_64.manylinux2014_x86_64.whl.metadata (4.1 kB)\n",
      "Collecting absl-py>=1.0.0 (from tensorflow_cpu==2.18.0)\n",
      "  Downloading absl_py-2.1.0-py3-none-any.whl.metadata (2.3 kB)\n",
      "Collecting astunparse>=1.6.0 (from tensorflow_cpu==2.18.0)\n",
      "  Downloading astunparse-1.6.3-py2.py3-none-any.whl.metadata (4.4 kB)\n",
      "Collecting flatbuffers>=24.3.25 (from tensorflow_cpu==2.18.0)\n",
      "  Downloading flatbuffers-24.12.23-py2.py3-none-any.whl.metadata (876 bytes)\n",
      "Collecting gast!=0.5.0,!=0.5.1,!=0.5.2,>=0.2.1 (from tensorflow_cpu==2.18.0)\n",
      "  Downloading gast-0.6.0-py3-none-any.whl.metadata (1.3 kB)\n",
      "Collecting google-pasta>=0.1.1 (from tensorflow_cpu==2.18.0)\n",
      "  Downloading google_pasta-0.2.0-py3-none-any.whl.metadata (814 bytes)\n",
      "Collecting libclang>=13.0.0 (from tensorflow_cpu==2.18.0)\n",
      "  Downloading libclang-18.1.1-py2.py3-none-manylinux2010_x86_64.whl.metadata (5.2 kB)\n",
      "Collecting opt-einsum>=2.3.2 (from tensorflow_cpu==2.18.0)\n",
      "  Downloading opt_einsum-3.4.0-py3-none-any.whl.metadata (6.3 kB)\n",
      "Requirement already satisfied: packaging in /opt/conda/lib/python3.11/site-packages (from tensorflow_cpu==2.18.0) (24.0)\n",
      "Collecting protobuf!=4.21.0,!=4.21.1,!=4.21.2,!=4.21.3,!=4.21.4,!=4.21.5,<6.0.0dev,>=3.20.3 (from tensorflow_cpu==2.18.0)\n",
      "  Downloading protobuf-5.29.2-cp38-abi3-manylinux2014_x86_64.whl.metadata (592 bytes)\n",
      "Requirement already satisfied: requests<3,>=2.21.0 in /opt/conda/lib/python3.11/site-packages (from tensorflow_cpu==2.18.0) (2.31.0)\n",
      "Requirement already satisfied: setuptools in /opt/conda/lib/python3.11/site-packages (from tensorflow_cpu==2.18.0) (69.5.1)\n",
      "Requirement already satisfied: six>=1.12.0 in /opt/conda/lib/python3.11/site-packages (from tensorflow_cpu==2.18.0) (1.16.0)\n",
      "Collecting termcolor>=1.1.0 (from tensorflow_cpu==2.18.0)\n",
      "  Downloading termcolor-2.5.0-py3-none-any.whl.metadata (6.1 kB)\n",
      "Requirement already satisfied: typing-extensions>=3.6.6 in /opt/conda/lib/python3.11/site-packages (from tensorflow_cpu==2.18.0) (4.12.2)\n",
      "Collecting wrapt>=1.11.0 (from tensorflow_cpu==2.18.0)\n",
      "  Downloading wrapt-1.17.0-cp311-cp311-manylinux_2_5_x86_64.manylinux1_x86_64.manylinux_2_17_x86_64.manylinux2014_x86_64.whl.metadata (6.4 kB)\n",
      "Collecting grpcio<2.0,>=1.24.3 (from tensorflow_cpu==2.18.0)\n",
      "  Downloading grpcio-1.69.0-cp311-cp311-manylinux_2_17_x86_64.manylinux2014_x86_64.whl.metadata (3.9 kB)\n",
      "Collecting tensorboard<2.19,>=2.18 (from tensorflow_cpu==2.18.0)\n",
      "  Downloading tensorboard-2.18.0-py3-none-any.whl.metadata (1.6 kB)\n",
      "Collecting keras>=3.5.0 (from tensorflow_cpu==2.18.0)\n",
      "  Downloading keras-3.8.0-py3-none-any.whl.metadata (5.8 kB)\n",
      "Requirement already satisfied: numpy<2.1.0,>=1.26.0 in /opt/conda/lib/python3.11/site-packages (from tensorflow_cpu==2.18.0) (2.0.2)\n",
      "Collecting h5py>=3.11.0 (from tensorflow_cpu==2.18.0)\n",
      "  Downloading h5py-3.12.1-cp311-cp311-manylinux_2_17_x86_64.manylinux2014_x86_64.whl.metadata (2.5 kB)\n",
      "Collecting ml-dtypes<0.5.0,>=0.4.0 (from tensorflow_cpu==2.18.0)\n",
      "  Downloading ml_dtypes-0.4.1-cp311-cp311-manylinux_2_17_x86_64.manylinux2014_x86_64.whl.metadata (20 kB)\n",
      "Collecting tensorflow-io-gcs-filesystem>=0.23.1 (from tensorflow_cpu==2.18.0)\n",
      "  Downloading tensorflow_io_gcs_filesystem-0.37.1-cp311-cp311-manylinux_2_17_x86_64.manylinux2014_x86_64.whl.metadata (14 kB)\n",
      "Requirement already satisfied: wheel<1.0,>=0.23.0 in /opt/conda/lib/python3.11/site-packages (from astunparse>=1.6.0->tensorflow_cpu==2.18.0) (0.43.0)\n",
      "Collecting rich (from keras>=3.5.0->tensorflow_cpu==2.18.0)\n",
      "  Downloading rich-13.9.4-py3-none-any.whl.metadata (18 kB)\n",
      "Collecting namex (from keras>=3.5.0->tensorflow_cpu==2.18.0)\n",
      "  Downloading namex-0.0.8-py3-none-any.whl.metadata (246 bytes)\n",
      "Collecting optree (from keras>=3.5.0->tensorflow_cpu==2.18.0)\n",
      "  Downloading optree-0.13.1-cp311-cp311-manylinux_2_17_x86_64.manylinux2014_x86_64.whl.metadata (47 kB)\n",
      "\u001b[2K     \u001b[90m━━━━━━━━━━━━━━━━━━━━━━━━━━━━━━━━━━━━━━━━\u001b[0m \u001b[32m47.8/47.8 kB\u001b[0m \u001b[31m3.6 MB/s\u001b[0m eta \u001b[36m0:00:00\u001b[0m\n",
      "\u001b[?25hRequirement already satisfied: charset-normalizer<4,>=2 in /opt/conda/lib/python3.11/site-packages (from requests<3,>=2.21.0->tensorflow_cpu==2.18.0) (3.3.2)\n",
      "Requirement already satisfied: idna<4,>=2.5 in /opt/conda/lib/python3.11/site-packages (from requests<3,>=2.21.0->tensorflow_cpu==2.18.0) (3.7)\n",
      "Requirement already satisfied: urllib3<3,>=1.21.1 in /opt/conda/lib/python3.11/site-packages (from requests<3,>=2.21.0->tensorflow_cpu==2.18.0) (2.2.1)\n",
      "Requirement already satisfied: certifi>=2017.4.17 in /opt/conda/lib/python3.11/site-packages (from requests<3,>=2.21.0->tensorflow_cpu==2.18.0) (2024.12.14)\n",
      "Collecting markdown>=2.6.8 (from tensorboard<2.19,>=2.18->tensorflow_cpu==2.18.0)\n",
      "  Downloading Markdown-3.7-py3-none-any.whl.metadata (7.0 kB)\n",
      "Collecting tensorboard-data-server<0.8.0,>=0.7.0 (from tensorboard<2.19,>=2.18->tensorflow_cpu==2.18.0)\n",
      "  Downloading tensorboard_data_server-0.7.2-py3-none-manylinux_2_31_x86_64.whl.metadata (1.1 kB)\n",
      "Collecting werkzeug>=1.0.1 (from tensorboard<2.19,>=2.18->tensorflow_cpu==2.18.0)\n",
      "  Downloading werkzeug-3.1.3-py3-none-any.whl.metadata (3.7 kB)\n",
      "Requirement already satisfied: MarkupSafe>=2.1.1 in /opt/conda/lib/python3.11/site-packages (from werkzeug>=1.0.1->tensorboard<2.19,>=2.18->tensorflow_cpu==2.18.0) (2.1.5)\n",
      "Collecting markdown-it-py>=2.2.0 (from rich->keras>=3.5.0->tensorflow_cpu==2.18.0)\n",
      "  Downloading markdown_it_py-3.0.0-py3-none-any.whl.metadata (6.9 kB)\n",
      "Requirement already satisfied: pygments<3.0.0,>=2.13.0 in /opt/conda/lib/python3.11/site-packages (from rich->keras>=3.5.0->tensorflow_cpu==2.18.0) (2.18.0)\n",
      "Collecting mdurl~=0.1 (from markdown-it-py>=2.2.0->rich->keras>=3.5.0->tensorflow_cpu==2.18.0)\n",
      "  Downloading mdurl-0.1.2-py3-none-any.whl.metadata (1.6 kB)\n",
      "Downloading tensorflow_cpu-2.18.0-cp311-cp311-manylinux_2_17_x86_64.manylinux2014_x86_64.whl (230.2 MB)\n",
      "\u001b[2K   \u001b[90m━━━━━━━━━━━━━━━━━━━━━━━━━━━━━━━━━━━━━━━━\u001b[0m \u001b[32m230.2/230.2 MB\u001b[0m \u001b[31m2.4 MB/s\u001b[0m eta \u001b[36m0:00:00\u001b[0m:00:01\u001b[0m00:01\u001b[0m\n",
      "\u001b[?25hDownloading absl_py-2.1.0-py3-none-any.whl (133 kB)\n",
      "\u001b[2K   \u001b[90m━━━━━━━━━━━━━━━━━━━━━━━━━━━━━━━━━━━━━━━━\u001b[0m \u001b[32m133.7/133.7 kB\u001b[0m \u001b[31m8.3 MB/s\u001b[0m eta \u001b[36m0:00:00\u001b[0m\n",
      "\u001b[?25hDownloading astunparse-1.6.3-py2.py3-none-any.whl (12 kB)\n",
      "Downloading flatbuffers-24.12.23-py2.py3-none-any.whl (30 kB)\n",
      "Downloading gast-0.6.0-py3-none-any.whl (21 kB)\n",
      "Downloading google_pasta-0.2.0-py3-none-any.whl (57 kB)\n",
      "\u001b[2K   \u001b[90m━━━━━━━━━━━━━━━━━━━━━━━━━━━━━━━━━━━━━━━━\u001b[0m \u001b[32m57.5/57.5 kB\u001b[0m \u001b[31m9.3 MB/s\u001b[0m eta \u001b[36m0:00:00\u001b[0m\n",
      "\u001b[?25hDownloading grpcio-1.69.0-cp311-cp311-manylinux_2_17_x86_64.manylinux2014_x86_64.whl (5.9 MB)\n",
      "\u001b[2K   \u001b[90m━━━━━━━━━━━━━━━━━━━━━━━━━━━━━━━━━━━━━━━━\u001b[0m \u001b[32m5.9/5.9 MB\u001b[0m \u001b[31m100.8 MB/s\u001b[0m eta \u001b[36m0:00:00\u001b[0ma \u001b[36m0:00:01\u001b[0m\n",
      "\u001b[?25hDownloading h5py-3.12.1-cp311-cp311-manylinux_2_17_x86_64.manylinux2014_x86_64.whl (5.5 MB)\n",
      "\u001b[2K   \u001b[90m━━━━━━━━━━━━━━━━━━━━━━━━━━━━━━━━━━━━━━━━\u001b[0m \u001b[32m5.5/5.5 MB\u001b[0m \u001b[31m65.1 MB/s\u001b[0m eta \u001b[36m0:00:00\u001b[0m:00:01\u001b[0m\n",
      "\u001b[?25hDownloading keras-3.8.0-py3-none-any.whl (1.3 MB)\n",
      "\u001b[2K   \u001b[90m━━━━━━━━━━━━━━━━━━━━━━━━━━━━━━━━━━━━━━━━\u001b[0m \u001b[32m1.3/1.3 MB\u001b[0m \u001b[31m64.0 MB/s\u001b[0m eta \u001b[36m0:00:00\u001b[0m\n",
      "\u001b[?25hDownloading libclang-18.1.1-py2.py3-none-manylinux2010_x86_64.whl (24.5 MB)\n",
      "\u001b[2K   \u001b[90m━━━━━━━━━━━━━━━━━━━━━━━━━━━━━━━━━━━━━━━━\u001b[0m \u001b[32m24.5/24.5 MB\u001b[0m \u001b[31m23.8 MB/s\u001b[0m eta \u001b[36m0:00:00\u001b[0m:00:01\u001b[0m00:01\u001b[0m\n",
      "\u001b[?25hDownloading ml_dtypes-0.4.1-cp311-cp311-manylinux_2_17_x86_64.manylinux2014_x86_64.whl (2.2 MB)\n",
      "\u001b[2K   \u001b[90m━━━━━━━━━━━━━━━━━━━━━━━━━━━━━━━━━━━━━━━━\u001b[0m \u001b[32m2.2/2.2 MB\u001b[0m \u001b[31m68.8 MB/s\u001b[0m eta \u001b[36m0:00:00\u001b[0m\n",
      "\u001b[?25hDownloading opt_einsum-3.4.0-py3-none-any.whl (71 kB)\n",
      "\u001b[2K   \u001b[90m━━━━━━━━━━━━━━━━━━━━━━━━━━━━━━━━━━━━━━━━\u001b[0m \u001b[32m71.9/71.9 kB\u001b[0m \u001b[31m9.4 MB/s\u001b[0m eta \u001b[36m0:00:00\u001b[0m\n",
      "\u001b[?25hDownloading protobuf-5.29.2-cp38-abi3-manylinux2014_x86_64.whl (319 kB)\n",
      "\u001b[2K   \u001b[90m━━━━━━━━━━━━━━━━━━━━━━━━━━━━━━━━━━━━━━━━\u001b[0m \u001b[32m319.7/319.7 kB\u001b[0m \u001b[31m32.3 MB/s\u001b[0m eta \u001b[36m0:00:00\u001b[0m\n",
      "\u001b[?25hDownloading tensorboard-2.18.0-py3-none-any.whl (5.5 MB)\n",
      "\u001b[2K   \u001b[90m━━━━━━━━━━━━━━━━━━━━━━━━━━━━━━━━━━━━━━━━\u001b[0m \u001b[32m5.5/5.5 MB\u001b[0m \u001b[31m62.2 MB/s\u001b[0m eta \u001b[36m0:00:00\u001b[0m:00:01\u001b[0m\n",
      "\u001b[?25hDownloading tensorflow_io_gcs_filesystem-0.37.1-cp311-cp311-manylinux_2_17_x86_64.manylinux2014_x86_64.whl (5.1 MB)\n",
      "\u001b[2K   \u001b[90m━━━━━━━━━━━━━━━━━━━━━━━━━━━━━━━━━━━━━━━━\u001b[0m \u001b[32m5.1/5.1 MB\u001b[0m \u001b[31m55.0 MB/s\u001b[0m eta \u001b[36m0:00:00\u001b[0m:00:01\u001b[0m\n",
      "\u001b[?25hDownloading termcolor-2.5.0-py3-none-any.whl (7.8 kB)\n",
      "Downloading wrapt-1.17.0-cp311-cp311-manylinux_2_5_x86_64.manylinux1_x86_64.manylinux_2_17_x86_64.manylinux2014_x86_64.whl (83 kB)\n",
      "\u001b[2K   \u001b[90m━━━━━━━━━━━━━━━━━━━━━━━━━━━━━━━━━━━━━━━━\u001b[0m \u001b[32m83.2/83.2 kB\u001b[0m \u001b[31m14.5 MB/s\u001b[0m eta \u001b[36m0:00:00\u001b[0m\n",
      "\u001b[?25hDownloading Markdown-3.7-py3-none-any.whl (106 kB)\n",
      "\u001b[2K   \u001b[90m━━━━━━━━━━━━━━━━━━━━━━━━━━━━━━━━━━━━━━━━\u001b[0m \u001b[32m106.3/106.3 kB\u001b[0m \u001b[31m18.0 MB/s\u001b[0m eta \u001b[36m0:00:00\u001b[0m\n",
      "\u001b[?25hDownloading tensorboard_data_server-0.7.2-py3-none-manylinux_2_31_x86_64.whl (6.6 MB)\n",
      "\u001b[2K   \u001b[90m━━━━━━━━━━━━━━━━━━━━━━━━━━━━━━━━━━━━━━━━\u001b[0m \u001b[32m6.6/6.6 MB\u001b[0m \u001b[31m57.6 MB/s\u001b[0m eta \u001b[36m0:00:00\u001b[0m:00:01\u001b[0m00:01\u001b[0m\n",
      "\u001b[?25hDownloading werkzeug-3.1.3-py3-none-any.whl (224 kB)\n",
      "\u001b[2K   \u001b[90m━━━━━━━━━━━━━━━━━━━━━━━━━━━━━━━━━━━━━━━━\u001b[0m \u001b[32m224.5/224.5 kB\u001b[0m \u001b[31m22.6 MB/s\u001b[0m eta \u001b[36m0:00:00\u001b[0m\n",
      "\u001b[?25hDownloading namex-0.0.8-py3-none-any.whl (5.8 kB)\n",
      "Downloading optree-0.13.1-cp311-cp311-manylinux_2_17_x86_64.manylinux2014_x86_64.whl (391 kB)\n",
      "\u001b[2K   \u001b[90m━━━━━━━━━━━━━━━━━━━━━━━━━━━━━━━━━━━━━━━━\u001b[0m \u001b[32m391.8/391.8 kB\u001b[0m \u001b[31m38.5 MB/s\u001b[0m eta \u001b[36m0:00:00\u001b[0m\n",
      "\u001b[?25hDownloading rich-13.9.4-py3-none-any.whl (242 kB)\n",
      "\u001b[2K   \u001b[90m━━━━━━━━━━━━━━━━━━━━━━━━━━━━━━━━━━━━━━━━\u001b[0m \u001b[32m242.4/242.4 kB\u001b[0m \u001b[31m28.1 MB/s\u001b[0m eta \u001b[36m0:00:00\u001b[0m\n",
      "\u001b[?25hDownloading markdown_it_py-3.0.0-py3-none-any.whl (87 kB)\n",
      "\u001b[2K   \u001b[90m━━━━━━━━━━━━━━━━━━━━━━━━━━━━━━━━━━━━━━━━\u001b[0m \u001b[32m87.5/87.5 kB\u001b[0m \u001b[31m10.3 MB/s\u001b[0m eta \u001b[36m0:00:00\u001b[0m\n",
      "\u001b[?25hDownloading mdurl-0.1.2-py3-none-any.whl (10.0 kB)\n",
      "Installing collected packages: namex, libclang, flatbuffers, wrapt, werkzeug, termcolor, tensorflow-io-gcs-filesystem, tensorboard-data-server, protobuf, optree, opt-einsum, ml-dtypes, mdurl, markdown, h5py, grpcio, google-pasta, gast, astunparse, absl-py, tensorboard, markdown-it-py, rich, keras, tensorflow_cpu\n",
      "Successfully installed absl-py-2.1.0 astunparse-1.6.3 flatbuffers-24.12.23 gast-0.6.0 google-pasta-0.2.0 grpcio-1.69.0 h5py-3.12.1 keras-3.8.0 libclang-18.1.1 markdown-3.7 markdown-it-py-3.0.0 mdurl-0.1.2 ml-dtypes-0.4.1 namex-0.0.8 opt-einsum-3.4.0 optree-0.13.1 protobuf-5.29.2 rich-13.9.4 tensorboard-2.18.0 tensorboard-data-server-0.7.2 tensorflow-io-gcs-filesystem-0.37.1 tensorflow_cpu-2.18.0 termcolor-2.5.0 werkzeug-3.1.3 wrapt-1.17.0\n"
     ]
    }
   ],
   "source": [
    "# All Libraries required for this lab are listed below. The libraries pre-installed on Skills Network Labs are commented. \n",
    "# If you run this notebook on a different environment, e.g. your desktop, you may need to uncomment and install certain libraries.\n",
    "\n",
    "!pip install numpy==2.0.2\n",
    "!pip install pandas==2.2.2\n",
    "!pip install tensorflow_cpu==2.18.0\n"
   ]
  },
  {
   "cell_type": "markdown",
   "metadata": {},
   "source": [
    "##### To use Keras, you will also need to install a backend framework – such as TensorFlow.\n",
    "\n",
    "If you install TensorFlow 2.16 or above, it will install Keras by default.\n",
    "\n",
    "We are using the CPU version of tensorflow since we are dealing with smaller datasets. \n",
    "You may install the GPU version of tensorflow on your machine to accelarate the processing of larger datasets\n"
   ]
  },
  {
   "cell_type": "code",
   "execution_count": 2,
   "metadata": {},
   "outputs": [
    {
     "name": "stderr",
     "output_type": "stream",
     "text": [
      "2025-01-08 15:06:33.319151: I tensorflow/core/util/port.cc:153] oneDNN custom operations are on. You may see slightly different numerical results due to floating-point round-off errors from different computation orders. To turn them off, set the environment variable `TF_ENABLE_ONEDNN_OPTS=0`.\n",
      "2025-01-08 15:06:33.366573: I tensorflow/core/platform/cpu_feature_guard.cc:210] This TensorFlow binary is optimized to use available CPU instructions in performance-critical operations.\n",
      "To enable the following instructions: AVX2 AVX512F AVX512_VNNI FMA, in other operations, rebuild TensorFlow with the appropriate compiler flags.\n"
     ]
    }
   ],
   "source": [
    "import pandas as pd\n",
    "import numpy as np\n",
    "import keras\n",
    "\n",
    "import warnings\n",
    "warnings.simplefilter('ignore', FutureWarning)"
   ]
  },
  {
   "cell_type": "markdown",
   "metadata": {},
   "source": [
    "We will be playing around with the same dataset that we used in the videos.\n",
    "\n",
    "<strong>The dataset is about the compressive strength of different samples of concrete based on the volumes of the different ingredients that were used to make them. Ingredients include:</strong>\n",
    "\n",
    "* Cement\n",
    "* Blast furnace slag\n",
    "* Fly ash\n",
    "* Water\n",
    "* Superplasticizer\n",
    "* Coarse aggregate\n",
    "* Fine aggregate\n"
   ]
  },
  {
   "cell_type": "markdown",
   "metadata": {},
   "source": [
    "Let's download the data and read it into a <em>pandas</em> dataframe.\n"
   ]
  },
  {
   "cell_type": "code",
   "execution_count": 3,
   "metadata": {},
   "outputs": [
    {
     "data": {
      "text/html": [
       "<div>\n",
       "<style scoped>\n",
       "    .dataframe tbody tr th:only-of-type {\n",
       "        vertical-align: middle;\n",
       "    }\n",
       "\n",
       "    .dataframe tbody tr th {\n",
       "        vertical-align: top;\n",
       "    }\n",
       "\n",
       "    .dataframe thead th {\n",
       "        text-align: right;\n",
       "    }\n",
       "</style>\n",
       "<table border=\"1\" class=\"dataframe\">\n",
       "  <thead>\n",
       "    <tr style=\"text-align: right;\">\n",
       "      <th></th>\n",
       "      <th>Cement</th>\n",
       "      <th>Blast Furnace Slag</th>\n",
       "      <th>Fly Ash</th>\n",
       "      <th>Water</th>\n",
       "      <th>Superplasticizer</th>\n",
       "      <th>Coarse Aggregate</th>\n",
       "      <th>Fine Aggregate</th>\n",
       "      <th>Age</th>\n",
       "      <th>Strength</th>\n",
       "    </tr>\n",
       "  </thead>\n",
       "  <tbody>\n",
       "    <tr>\n",
       "      <th>0</th>\n",
       "      <td>540.0</td>\n",
       "      <td>0.0</td>\n",
       "      <td>0.0</td>\n",
       "      <td>162.0</td>\n",
       "      <td>2.5</td>\n",
       "      <td>1040.0</td>\n",
       "      <td>676.0</td>\n",
       "      <td>28</td>\n",
       "      <td>79.99</td>\n",
       "    </tr>\n",
       "    <tr>\n",
       "      <th>1</th>\n",
       "      <td>540.0</td>\n",
       "      <td>0.0</td>\n",
       "      <td>0.0</td>\n",
       "      <td>162.0</td>\n",
       "      <td>2.5</td>\n",
       "      <td>1055.0</td>\n",
       "      <td>676.0</td>\n",
       "      <td>28</td>\n",
       "      <td>61.89</td>\n",
       "    </tr>\n",
       "    <tr>\n",
       "      <th>2</th>\n",
       "      <td>332.5</td>\n",
       "      <td>142.5</td>\n",
       "      <td>0.0</td>\n",
       "      <td>228.0</td>\n",
       "      <td>0.0</td>\n",
       "      <td>932.0</td>\n",
       "      <td>594.0</td>\n",
       "      <td>270</td>\n",
       "      <td>40.27</td>\n",
       "    </tr>\n",
       "    <tr>\n",
       "      <th>3</th>\n",
       "      <td>332.5</td>\n",
       "      <td>142.5</td>\n",
       "      <td>0.0</td>\n",
       "      <td>228.0</td>\n",
       "      <td>0.0</td>\n",
       "      <td>932.0</td>\n",
       "      <td>594.0</td>\n",
       "      <td>365</td>\n",
       "      <td>41.05</td>\n",
       "    </tr>\n",
       "    <tr>\n",
       "      <th>4</th>\n",
       "      <td>198.6</td>\n",
       "      <td>132.4</td>\n",
       "      <td>0.0</td>\n",
       "      <td>192.0</td>\n",
       "      <td>0.0</td>\n",
       "      <td>978.4</td>\n",
       "      <td>825.5</td>\n",
       "      <td>360</td>\n",
       "      <td>44.30</td>\n",
       "    </tr>\n",
       "  </tbody>\n",
       "</table>\n",
       "</div>"
      ],
      "text/plain": [
       "   Cement  Blast Furnace Slag  Fly Ash  Water  Superplasticizer  \\\n",
       "0   540.0                 0.0      0.0  162.0               2.5   \n",
       "1   540.0                 0.0      0.0  162.0               2.5   \n",
       "2   332.5               142.5      0.0  228.0               0.0   \n",
       "3   332.5               142.5      0.0  228.0               0.0   \n",
       "4   198.6               132.4      0.0  192.0               0.0   \n",
       "\n",
       "   Coarse Aggregate  Fine Aggregate  Age  Strength  \n",
       "0            1040.0           676.0   28     79.99  \n",
       "1            1055.0           676.0   28     61.89  \n",
       "2             932.0           594.0  270     40.27  \n",
       "3             932.0           594.0  365     41.05  \n",
       "4             978.4           825.5  360     44.30  "
      ]
     },
     "execution_count": 3,
     "metadata": {},
     "output_type": "execute_result"
    }
   ],
   "source": [
    "filepath='https://s3-api.us-geo.objectstorage.softlayer.net/cf-courses-data/CognitiveClass/DL0101EN/labs/data/concrete_data.csv'\n",
    "concrete_data = pd.read_csv(filepath)\n",
    "\n",
    "concrete_data.head()"
   ]
  },
  {
   "cell_type": "markdown",
   "metadata": {},
   "source": [
    "So the first concrete sample has 540 cubic meter of cement, 0 cubic meter of blast furnace slag, 0 cubic meter of fly ash, 162 cubic meter of water, 2.5 cubic meter of superplaticizer, 1040 cubic meter of coarse aggregate, 676 cubic meter of fine aggregate. Such a concrete mix which is 28 days old, has a compressive strength of 79.99 MPa. \n"
   ]
  },
  {
   "cell_type": "markdown",
   "metadata": {},
   "source": [
    "#### Let's check how many data points we have\n"
   ]
  },
  {
   "cell_type": "code",
   "execution_count": 4,
   "metadata": {},
   "outputs": [
    {
     "data": {
      "text/plain": [
       "(1030, 9)"
      ]
     },
     "execution_count": 4,
     "metadata": {},
     "output_type": "execute_result"
    }
   ],
   "source": [
    "concrete_data.shape"
   ]
  },
  {
   "cell_type": "markdown",
   "metadata": {},
   "source": [
    "So, there are approximately 1000 samples to train our model on. Because of the few samples, we have to be careful not to overfit the training data.\n"
   ]
  },
  {
   "cell_type": "markdown",
   "metadata": {},
   "source": [
    "Let's check the dataset for any missing values.\n"
   ]
  },
  {
   "cell_type": "code",
   "execution_count": 5,
   "metadata": {},
   "outputs": [
    {
     "data": {
      "text/html": [
       "<div>\n",
       "<style scoped>\n",
       "    .dataframe tbody tr th:only-of-type {\n",
       "        vertical-align: middle;\n",
       "    }\n",
       "\n",
       "    .dataframe tbody tr th {\n",
       "        vertical-align: top;\n",
       "    }\n",
       "\n",
       "    .dataframe thead th {\n",
       "        text-align: right;\n",
       "    }\n",
       "</style>\n",
       "<table border=\"1\" class=\"dataframe\">\n",
       "  <thead>\n",
       "    <tr style=\"text-align: right;\">\n",
       "      <th></th>\n",
       "      <th>Cement</th>\n",
       "      <th>Blast Furnace Slag</th>\n",
       "      <th>Fly Ash</th>\n",
       "      <th>Water</th>\n",
       "      <th>Superplasticizer</th>\n",
       "      <th>Coarse Aggregate</th>\n",
       "      <th>Fine Aggregate</th>\n",
       "      <th>Age</th>\n",
       "      <th>Strength</th>\n",
       "    </tr>\n",
       "  </thead>\n",
       "  <tbody>\n",
       "    <tr>\n",
       "      <th>count</th>\n",
       "      <td>1030.000000</td>\n",
       "      <td>1030.000000</td>\n",
       "      <td>1030.000000</td>\n",
       "      <td>1030.000000</td>\n",
       "      <td>1030.000000</td>\n",
       "      <td>1030.000000</td>\n",
       "      <td>1030.000000</td>\n",
       "      <td>1030.000000</td>\n",
       "      <td>1030.000000</td>\n",
       "    </tr>\n",
       "    <tr>\n",
       "      <th>mean</th>\n",
       "      <td>281.167864</td>\n",
       "      <td>73.895825</td>\n",
       "      <td>54.188350</td>\n",
       "      <td>181.567282</td>\n",
       "      <td>6.204660</td>\n",
       "      <td>972.918932</td>\n",
       "      <td>773.580485</td>\n",
       "      <td>45.662136</td>\n",
       "      <td>35.817961</td>\n",
       "    </tr>\n",
       "    <tr>\n",
       "      <th>std</th>\n",
       "      <td>104.506364</td>\n",
       "      <td>86.279342</td>\n",
       "      <td>63.997004</td>\n",
       "      <td>21.354219</td>\n",
       "      <td>5.973841</td>\n",
       "      <td>77.753954</td>\n",
       "      <td>80.175980</td>\n",
       "      <td>63.169912</td>\n",
       "      <td>16.705742</td>\n",
       "    </tr>\n",
       "    <tr>\n",
       "      <th>min</th>\n",
       "      <td>102.000000</td>\n",
       "      <td>0.000000</td>\n",
       "      <td>0.000000</td>\n",
       "      <td>121.800000</td>\n",
       "      <td>0.000000</td>\n",
       "      <td>801.000000</td>\n",
       "      <td>594.000000</td>\n",
       "      <td>1.000000</td>\n",
       "      <td>2.330000</td>\n",
       "    </tr>\n",
       "    <tr>\n",
       "      <th>25%</th>\n",
       "      <td>192.375000</td>\n",
       "      <td>0.000000</td>\n",
       "      <td>0.000000</td>\n",
       "      <td>164.900000</td>\n",
       "      <td>0.000000</td>\n",
       "      <td>932.000000</td>\n",
       "      <td>730.950000</td>\n",
       "      <td>7.000000</td>\n",
       "      <td>23.710000</td>\n",
       "    </tr>\n",
       "    <tr>\n",
       "      <th>50%</th>\n",
       "      <td>272.900000</td>\n",
       "      <td>22.000000</td>\n",
       "      <td>0.000000</td>\n",
       "      <td>185.000000</td>\n",
       "      <td>6.400000</td>\n",
       "      <td>968.000000</td>\n",
       "      <td>779.500000</td>\n",
       "      <td>28.000000</td>\n",
       "      <td>34.445000</td>\n",
       "    </tr>\n",
       "    <tr>\n",
       "      <th>75%</th>\n",
       "      <td>350.000000</td>\n",
       "      <td>142.950000</td>\n",
       "      <td>118.300000</td>\n",
       "      <td>192.000000</td>\n",
       "      <td>10.200000</td>\n",
       "      <td>1029.400000</td>\n",
       "      <td>824.000000</td>\n",
       "      <td>56.000000</td>\n",
       "      <td>46.135000</td>\n",
       "    </tr>\n",
       "    <tr>\n",
       "      <th>max</th>\n",
       "      <td>540.000000</td>\n",
       "      <td>359.400000</td>\n",
       "      <td>200.100000</td>\n",
       "      <td>247.000000</td>\n",
       "      <td>32.200000</td>\n",
       "      <td>1145.000000</td>\n",
       "      <td>992.600000</td>\n",
       "      <td>365.000000</td>\n",
       "      <td>82.600000</td>\n",
       "    </tr>\n",
       "  </tbody>\n",
       "</table>\n",
       "</div>"
      ],
      "text/plain": [
       "            Cement  Blast Furnace Slag      Fly Ash        Water  \\\n",
       "count  1030.000000         1030.000000  1030.000000  1030.000000   \n",
       "mean    281.167864           73.895825    54.188350   181.567282   \n",
       "std     104.506364           86.279342    63.997004    21.354219   \n",
       "min     102.000000            0.000000     0.000000   121.800000   \n",
       "25%     192.375000            0.000000     0.000000   164.900000   \n",
       "50%     272.900000           22.000000     0.000000   185.000000   \n",
       "75%     350.000000          142.950000   118.300000   192.000000   \n",
       "max     540.000000          359.400000   200.100000   247.000000   \n",
       "\n",
       "       Superplasticizer  Coarse Aggregate  Fine Aggregate          Age  \\\n",
       "count       1030.000000       1030.000000     1030.000000  1030.000000   \n",
       "mean           6.204660        972.918932      773.580485    45.662136   \n",
       "std            5.973841         77.753954       80.175980    63.169912   \n",
       "min            0.000000        801.000000      594.000000     1.000000   \n",
       "25%            0.000000        932.000000      730.950000     7.000000   \n",
       "50%            6.400000        968.000000      779.500000    28.000000   \n",
       "75%           10.200000       1029.400000      824.000000    56.000000   \n",
       "max           32.200000       1145.000000      992.600000   365.000000   \n",
       "\n",
       "          Strength  \n",
       "count  1030.000000  \n",
       "mean     35.817961  \n",
       "std      16.705742  \n",
       "min       2.330000  \n",
       "25%      23.710000  \n",
       "50%      34.445000  \n",
       "75%      46.135000  \n",
       "max      82.600000  "
      ]
     },
     "execution_count": 5,
     "metadata": {},
     "output_type": "execute_result"
    }
   ],
   "source": [
    "concrete_data.describe()"
   ]
  },
  {
   "cell_type": "code",
   "execution_count": 6,
   "metadata": {},
   "outputs": [
    {
     "data": {
      "text/plain": [
       "Cement                0\n",
       "Blast Furnace Slag    0\n",
       "Fly Ash               0\n",
       "Water                 0\n",
       "Superplasticizer      0\n",
       "Coarse Aggregate      0\n",
       "Fine Aggregate        0\n",
       "Age                   0\n",
       "Strength              0\n",
       "dtype: int64"
      ]
     },
     "execution_count": 6,
     "metadata": {},
     "output_type": "execute_result"
    }
   ],
   "source": [
    "concrete_data.isnull().sum()"
   ]
  },
  {
   "cell_type": "markdown",
   "metadata": {},
   "source": [
    "The data looks very clean and is ready to be used to build our model.\n"
   ]
  },
  {
   "cell_type": "markdown",
   "metadata": {},
   "source": [
    "#### Split data into predictors and target\n"
   ]
  },
  {
   "cell_type": "markdown",
   "metadata": {},
   "source": [
    "The target variable in this problem is the concrete sample strength. Therefore, our predictors will be all the other columns.\n"
   ]
  },
  {
   "cell_type": "code",
   "execution_count": 7,
   "metadata": {},
   "outputs": [],
   "source": [
    "concrete_data_columns = concrete_data.columns"
   ]
  },
  {
   "cell_type": "code",
   "execution_count": 8,
   "metadata": {},
   "outputs": [],
   "source": [
    "predictors = concrete_data[concrete_data_columns[concrete_data_columns != 'Strength']] # all columns except Strength\n",
    "target = concrete_data['Strength'] # Strength column"
   ]
  },
  {
   "cell_type": "markdown",
   "metadata": {},
   "source": [
    "<a id=\"item2\"></a>\n"
   ]
  },
  {
   "cell_type": "markdown",
   "metadata": {},
   "source": [
    "Let's do a quick sanity check of the predictors and the target dataframes.\n"
   ]
  },
  {
   "cell_type": "code",
   "execution_count": 9,
   "metadata": {},
   "outputs": [
    {
     "data": {
      "text/html": [
       "<div>\n",
       "<style scoped>\n",
       "    .dataframe tbody tr th:only-of-type {\n",
       "        vertical-align: middle;\n",
       "    }\n",
       "\n",
       "    .dataframe tbody tr th {\n",
       "        vertical-align: top;\n",
       "    }\n",
       "\n",
       "    .dataframe thead th {\n",
       "        text-align: right;\n",
       "    }\n",
       "</style>\n",
       "<table border=\"1\" class=\"dataframe\">\n",
       "  <thead>\n",
       "    <tr style=\"text-align: right;\">\n",
       "      <th></th>\n",
       "      <th>Cement</th>\n",
       "      <th>Blast Furnace Slag</th>\n",
       "      <th>Fly Ash</th>\n",
       "      <th>Water</th>\n",
       "      <th>Superplasticizer</th>\n",
       "      <th>Coarse Aggregate</th>\n",
       "      <th>Fine Aggregate</th>\n",
       "      <th>Age</th>\n",
       "    </tr>\n",
       "  </thead>\n",
       "  <tbody>\n",
       "    <tr>\n",
       "      <th>0</th>\n",
       "      <td>540.0</td>\n",
       "      <td>0.0</td>\n",
       "      <td>0.0</td>\n",
       "      <td>162.0</td>\n",
       "      <td>2.5</td>\n",
       "      <td>1040.0</td>\n",
       "      <td>676.0</td>\n",
       "      <td>28</td>\n",
       "    </tr>\n",
       "    <tr>\n",
       "      <th>1</th>\n",
       "      <td>540.0</td>\n",
       "      <td>0.0</td>\n",
       "      <td>0.0</td>\n",
       "      <td>162.0</td>\n",
       "      <td>2.5</td>\n",
       "      <td>1055.0</td>\n",
       "      <td>676.0</td>\n",
       "      <td>28</td>\n",
       "    </tr>\n",
       "    <tr>\n",
       "      <th>2</th>\n",
       "      <td>332.5</td>\n",
       "      <td>142.5</td>\n",
       "      <td>0.0</td>\n",
       "      <td>228.0</td>\n",
       "      <td>0.0</td>\n",
       "      <td>932.0</td>\n",
       "      <td>594.0</td>\n",
       "      <td>270</td>\n",
       "    </tr>\n",
       "    <tr>\n",
       "      <th>3</th>\n",
       "      <td>332.5</td>\n",
       "      <td>142.5</td>\n",
       "      <td>0.0</td>\n",
       "      <td>228.0</td>\n",
       "      <td>0.0</td>\n",
       "      <td>932.0</td>\n",
       "      <td>594.0</td>\n",
       "      <td>365</td>\n",
       "    </tr>\n",
       "    <tr>\n",
       "      <th>4</th>\n",
       "      <td>198.6</td>\n",
       "      <td>132.4</td>\n",
       "      <td>0.0</td>\n",
       "      <td>192.0</td>\n",
       "      <td>0.0</td>\n",
       "      <td>978.4</td>\n",
       "      <td>825.5</td>\n",
       "      <td>360</td>\n",
       "    </tr>\n",
       "  </tbody>\n",
       "</table>\n",
       "</div>"
      ],
      "text/plain": [
       "   Cement  Blast Furnace Slag  Fly Ash  Water  Superplasticizer  \\\n",
       "0   540.0                 0.0      0.0  162.0               2.5   \n",
       "1   540.0                 0.0      0.0  162.0               2.5   \n",
       "2   332.5               142.5      0.0  228.0               0.0   \n",
       "3   332.5               142.5      0.0  228.0               0.0   \n",
       "4   198.6               132.4      0.0  192.0               0.0   \n",
       "\n",
       "   Coarse Aggregate  Fine Aggregate  Age  \n",
       "0            1040.0           676.0   28  \n",
       "1            1055.0           676.0   28  \n",
       "2             932.0           594.0  270  \n",
       "3             932.0           594.0  365  \n",
       "4             978.4           825.5  360  "
      ]
     },
     "execution_count": 9,
     "metadata": {},
     "output_type": "execute_result"
    }
   ],
   "source": [
    "predictors.head()"
   ]
  },
  {
   "cell_type": "code",
   "execution_count": 10,
   "metadata": {},
   "outputs": [
    {
     "data": {
      "text/plain": [
       "0    79.99\n",
       "1    61.89\n",
       "2    40.27\n",
       "3    41.05\n",
       "4    44.30\n",
       "Name: Strength, dtype: float64"
      ]
     },
     "execution_count": 10,
     "metadata": {},
     "output_type": "execute_result"
    }
   ],
   "source": [
    "target.head()"
   ]
  },
  {
   "cell_type": "markdown",
   "metadata": {},
   "source": [
    "Finally, the last step is to normalize the data by substracting the mean and dividing by the standard deviation.\n"
   ]
  },
  {
   "cell_type": "code",
   "execution_count": 11,
   "metadata": {},
   "outputs": [
    {
     "data": {
      "text/html": [
       "<div>\n",
       "<style scoped>\n",
       "    .dataframe tbody tr th:only-of-type {\n",
       "        vertical-align: middle;\n",
       "    }\n",
       "\n",
       "    .dataframe tbody tr th {\n",
       "        vertical-align: top;\n",
       "    }\n",
       "\n",
       "    .dataframe thead th {\n",
       "        text-align: right;\n",
       "    }\n",
       "</style>\n",
       "<table border=\"1\" class=\"dataframe\">\n",
       "  <thead>\n",
       "    <tr style=\"text-align: right;\">\n",
       "      <th></th>\n",
       "      <th>Cement</th>\n",
       "      <th>Blast Furnace Slag</th>\n",
       "      <th>Fly Ash</th>\n",
       "      <th>Water</th>\n",
       "      <th>Superplasticizer</th>\n",
       "      <th>Coarse Aggregate</th>\n",
       "      <th>Fine Aggregate</th>\n",
       "      <th>Age</th>\n",
       "    </tr>\n",
       "  </thead>\n",
       "  <tbody>\n",
       "    <tr>\n",
       "      <th>0</th>\n",
       "      <td>2.476712</td>\n",
       "      <td>-0.856472</td>\n",
       "      <td>-0.846733</td>\n",
       "      <td>-0.916319</td>\n",
       "      <td>-0.620147</td>\n",
       "      <td>0.862735</td>\n",
       "      <td>-1.217079</td>\n",
       "      <td>-0.279597</td>\n",
       "    </tr>\n",
       "    <tr>\n",
       "      <th>1</th>\n",
       "      <td>2.476712</td>\n",
       "      <td>-0.856472</td>\n",
       "      <td>-0.846733</td>\n",
       "      <td>-0.916319</td>\n",
       "      <td>-0.620147</td>\n",
       "      <td>1.055651</td>\n",
       "      <td>-1.217079</td>\n",
       "      <td>-0.279597</td>\n",
       "    </tr>\n",
       "    <tr>\n",
       "      <th>2</th>\n",
       "      <td>0.491187</td>\n",
       "      <td>0.795140</td>\n",
       "      <td>-0.846733</td>\n",
       "      <td>2.174405</td>\n",
       "      <td>-1.038638</td>\n",
       "      <td>-0.526262</td>\n",
       "      <td>-2.239829</td>\n",
       "      <td>3.551340</td>\n",
       "    </tr>\n",
       "    <tr>\n",
       "      <th>3</th>\n",
       "      <td>0.491187</td>\n",
       "      <td>0.795140</td>\n",
       "      <td>-0.846733</td>\n",
       "      <td>2.174405</td>\n",
       "      <td>-1.038638</td>\n",
       "      <td>-0.526262</td>\n",
       "      <td>-2.239829</td>\n",
       "      <td>5.055221</td>\n",
       "    </tr>\n",
       "    <tr>\n",
       "      <th>4</th>\n",
       "      <td>-0.790075</td>\n",
       "      <td>0.678079</td>\n",
       "      <td>-0.846733</td>\n",
       "      <td>0.488555</td>\n",
       "      <td>-1.038638</td>\n",
       "      <td>0.070492</td>\n",
       "      <td>0.647569</td>\n",
       "      <td>4.976069</td>\n",
       "    </tr>\n",
       "  </tbody>\n",
       "</table>\n",
       "</div>"
      ],
      "text/plain": [
       "     Cement  Blast Furnace Slag   Fly Ash     Water  Superplasticizer  \\\n",
       "0  2.476712           -0.856472 -0.846733 -0.916319         -0.620147   \n",
       "1  2.476712           -0.856472 -0.846733 -0.916319         -0.620147   \n",
       "2  0.491187            0.795140 -0.846733  2.174405         -1.038638   \n",
       "3  0.491187            0.795140 -0.846733  2.174405         -1.038638   \n",
       "4 -0.790075            0.678079 -0.846733  0.488555         -1.038638   \n",
       "\n",
       "   Coarse Aggregate  Fine Aggregate       Age  \n",
       "0          0.862735       -1.217079 -0.279597  \n",
       "1          1.055651       -1.217079 -0.279597  \n",
       "2         -0.526262       -2.239829  3.551340  \n",
       "3         -0.526262       -2.239829  5.055221  \n",
       "4          0.070492        0.647569  4.976069  "
      ]
     },
     "execution_count": 11,
     "metadata": {},
     "output_type": "execute_result"
    }
   ],
   "source": [
    "predictors_norm = (predictors - predictors.mean()) / predictors.std()\n",
    "predictors_norm.head()"
   ]
  },
  {
   "cell_type": "markdown",
   "metadata": {},
   "source": [
    "Let's save the number of predictors to *n_cols* since we will need this number when building our network.\n"
   ]
  },
  {
   "cell_type": "code",
   "execution_count": 12,
   "metadata": {},
   "outputs": [],
   "source": [
    "n_cols = predictors_norm.shape[1] # number of predictors"
   ]
  },
  {
   "cell_type": "markdown",
   "metadata": {},
   "source": [
    "<a id=\"item1\"></a>\n"
   ]
  },
  {
   "cell_type": "markdown",
   "metadata": {},
   "source": [
    "<a id='item32'></a>\n"
   ]
  },
  {
   "cell_type": "markdown",
   "metadata": {},
   "source": [
    "##  Import Keras Packages\n",
    "\n",
    "##### Let's import the rest of the packages from the Keras library that we will need to build our regression model.\n"
   ]
  },
  {
   "cell_type": "code",
   "execution_count": 13,
   "metadata": {},
   "outputs": [],
   "source": [
    "from keras.models import Sequential\n",
    "from keras.layers import Dense\n",
    "from keras.layers import Input"
   ]
  },
  {
   "cell_type": "markdown",
   "metadata": {},
   "source": [
    "<a id='item33'></a>\n"
   ]
  },
  {
   "cell_type": "markdown",
   "metadata": {},
   "source": [
    "## Build a Neural Network\n"
   ]
  },
  {
   "cell_type": "markdown",
   "metadata": {},
   "source": [
    "Let's define a function that defines our regression model for us so that we can conveniently call it to create our model.\n"
   ]
  },
  {
   "cell_type": "code",
   "execution_count": 15,
   "metadata": {},
   "outputs": [],
   "source": [
    "# define regression model\n",
    "def regression_model():\n",
    "    # create model\n",
    "    model = Sequential()\n",
    "    model.add(Input(shape=(n_cols,)))\n",
    "    model.add(Dense(50, activation='relu'))\n",
    "    model.add(Dense(50, activation='relu'))\n",
    "    model.add(Dense(1))\n",
    "    \n",
    "    # compile model\n",
    "    model.compile(optimizer='adam', loss='mean_squared_error')\n",
    "    return model"
   ]
  },
  {
   "cell_type": "markdown",
   "metadata": {},
   "source": [
    "The above function create a model that has two hidden layers, each of 50 hidden units.\n"
   ]
  },
  {
   "cell_type": "markdown",
   "metadata": {},
   "source": [
    "<a id=\"item4\"></a>\n"
   ]
  },
  {
   "cell_type": "markdown",
   "metadata": {},
   "source": [
    "## Train and Test the Network\n"
   ]
  },
  {
   "cell_type": "markdown",
   "metadata": {},
   "source": [
    "Let's call the function now to create our model.\n"
   ]
  },
  {
   "cell_type": "code",
   "execution_count": 17,
   "metadata": {},
   "outputs": [],
   "source": [
    "# build the model\n",
    "model = regression_model()"
   ]
  },
  {
   "cell_type": "markdown",
   "metadata": {},
   "source": [
    "Next, we will train and test the model at the same time using the *fit* method. We will leave out 30% of the data for validation and we will train the model for 100 epochs.\n"
   ]
  },
  {
   "cell_type": "code",
   "execution_count": 18,
   "metadata": {},
   "outputs": [
    {
     "name": "stdout",
     "output_type": "stream",
     "text": [
      "Epoch 1/100\n",
      "23/23 - 1s - 49ms/step - loss: 1628.8318 - val_loss: 1121.7173\n",
      "Epoch 2/100\n",
      "23/23 - 0s - 8ms/step - loss: 1466.8854 - val_loss: 980.4820\n",
      "Epoch 3/100\n",
      "23/23 - 0s - 8ms/step - loss: 1232.2520 - val_loss: 782.2939\n",
      "Epoch 4/100\n",
      "23/23 - 0s - 8ms/step - loss: 918.6968 - val_loss: 545.6415\n",
      "Epoch 5/100\n",
      "23/23 - 0s - 7ms/step - loss: 579.2217 - val_loss: 351.1949\n",
      "Epoch 6/100\n",
      "23/23 - 0s - 7ms/step - loss: 348.9029 - val_loss: 246.9337\n",
      "Epoch 7/100\n",
      "23/23 - 0s - 8ms/step - loss: 263.6465 - val_loss: 204.9550\n",
      "Epoch 8/100\n",
      "23/23 - 0s - 7ms/step - loss: 235.0561 - val_loss: 189.0624\n",
      "Epoch 9/100\n",
      "23/23 - 0s - 8ms/step - loss: 218.0444 - val_loss: 179.1597\n",
      "Epoch 10/100\n",
      "23/23 - 0s - 6ms/step - loss: 207.5049 - val_loss: 173.6058\n",
      "Epoch 11/100\n",
      "23/23 - 0s - 7ms/step - loss: 197.4213 - val_loss: 173.2428\n",
      "Epoch 12/100\n",
      "23/23 - 0s - 6ms/step - loss: 190.2874 - val_loss: 169.6810\n",
      "Epoch 13/100\n",
      "23/23 - 0s - 7ms/step - loss: 184.3099 - val_loss: 166.7415\n",
      "Epoch 14/100\n",
      "23/23 - 0s - 7ms/step - loss: 178.6294 - val_loss: 162.2280\n",
      "Epoch 15/100\n",
      "23/23 - 0s - 7ms/step - loss: 173.5562 - val_loss: 162.7688\n",
      "Epoch 16/100\n",
      "23/23 - 0s - 7ms/step - loss: 169.7254 - val_loss: 163.2077\n",
      "Epoch 17/100\n",
      "23/23 - 0s - 6ms/step - loss: 166.1430 - val_loss: 161.3064\n",
      "Epoch 18/100\n",
      "23/23 - 0s - 6ms/step - loss: 162.8157 - val_loss: 158.7915\n",
      "Epoch 19/100\n",
      "23/23 - 0s - 8ms/step - loss: 160.6873 - val_loss: 157.4253\n",
      "Epoch 20/100\n",
      "23/23 - 0s - 6ms/step - loss: 157.6420 - val_loss: 157.6448\n",
      "Epoch 21/100\n",
      "23/23 - 0s - 7ms/step - loss: 155.6122 - val_loss: 158.0032\n",
      "Epoch 22/100\n",
      "23/23 - 0s - 8ms/step - loss: 153.0350 - val_loss: 157.3873\n",
      "Epoch 23/100\n",
      "23/23 - 0s - 7ms/step - loss: 151.3555 - val_loss: 156.2129\n",
      "Epoch 24/100\n",
      "23/23 - 0s - 6ms/step - loss: 149.1964 - val_loss: 156.6814\n",
      "Epoch 25/100\n",
      "23/23 - 0s - 6ms/step - loss: 147.4916 - val_loss: 155.4467\n",
      "Epoch 26/100\n",
      "23/23 - 0s - 6ms/step - loss: 146.1277 - val_loss: 154.7714\n",
      "Epoch 27/100\n",
      "23/23 - 0s - 8ms/step - loss: 144.7147 - val_loss: 157.1170\n",
      "Epoch 28/100\n",
      "23/23 - 0s - 6ms/step - loss: 142.7597 - val_loss: 155.7513\n",
      "Epoch 29/100\n",
      "23/23 - 0s - 7ms/step - loss: 141.4132 - val_loss: 156.0215\n",
      "Epoch 30/100\n",
      "23/23 - 0s - 7ms/step - loss: 139.7794 - val_loss: 156.9448\n",
      "Epoch 31/100\n",
      "23/23 - 0s - 7ms/step - loss: 139.0604 - val_loss: 156.5589\n",
      "Epoch 32/100\n",
      "23/23 - 0s - 7ms/step - loss: 137.9568 - val_loss: 157.1771\n",
      "Epoch 33/100\n",
      "23/23 - 0s - 8ms/step - loss: 136.2517 - val_loss: 154.3483\n",
      "Epoch 34/100\n",
      "23/23 - 0s - 6ms/step - loss: 134.6357 - val_loss: 157.6467\n",
      "Epoch 35/100\n",
      "23/23 - 0s - 6ms/step - loss: 133.2191 - val_loss: 158.3737\n",
      "Epoch 36/100\n",
      "23/23 - 0s - 7ms/step - loss: 132.0115 - val_loss: 156.3401\n",
      "Epoch 37/100\n",
      "23/23 - 0s - 7ms/step - loss: 131.7393 - val_loss: 153.6469\n",
      "Epoch 38/100\n",
      "23/23 - 0s - 7ms/step - loss: 130.2230 - val_loss: 155.0402\n",
      "Epoch 39/100\n",
      "23/23 - 0s - 7ms/step - loss: 128.8179 - val_loss: 156.8375\n",
      "Epoch 40/100\n",
      "23/23 - 0s - 7ms/step - loss: 126.5264 - val_loss: 154.7127\n",
      "Epoch 41/100\n",
      "23/23 - 0s - 8ms/step - loss: 125.0413 - val_loss: 155.2094\n",
      "Epoch 42/100\n",
      "23/23 - 0s - 7ms/step - loss: 123.9740 - val_loss: 157.3098\n",
      "Epoch 43/100\n",
      "23/23 - 0s - 7ms/step - loss: 122.3980 - val_loss: 154.6966\n",
      "Epoch 44/100\n",
      "23/23 - 0s - 6ms/step - loss: 121.5187 - val_loss: 153.5577\n",
      "Epoch 45/100\n",
      "23/23 - 0s - 6ms/step - loss: 119.7710 - val_loss: 152.7892\n",
      "Epoch 46/100\n",
      "23/23 - 0s - 6ms/step - loss: 117.9972 - val_loss: 154.1447\n",
      "Epoch 47/100\n",
      "23/23 - 0s - 6ms/step - loss: 116.2798 - val_loss: 154.1333\n",
      "Epoch 48/100\n",
      "23/23 - 0s - 6ms/step - loss: 114.4145 - val_loss: 155.6025\n",
      "Epoch 49/100\n",
      "23/23 - 0s - 7ms/step - loss: 113.3965 - val_loss: 152.6004\n",
      "Epoch 50/100\n",
      "23/23 - 0s - 7ms/step - loss: 111.5398 - val_loss: 150.8768\n",
      "Epoch 51/100\n",
      "23/23 - 0s - 6ms/step - loss: 109.3386 - val_loss: 150.0766\n",
      "Epoch 52/100\n",
      "23/23 - 0s - 6ms/step - loss: 108.0115 - val_loss: 149.3352\n",
      "Epoch 53/100\n",
      "23/23 - 0s - 6ms/step - loss: 105.9914 - val_loss: 148.4138\n",
      "Epoch 54/100\n",
      "23/23 - 0s - 7ms/step - loss: 103.8179 - val_loss: 151.4572\n",
      "Epoch 55/100\n",
      "23/23 - 0s - 6ms/step - loss: 101.6952 - val_loss: 148.8129\n",
      "Epoch 56/100\n",
      "23/23 - 0s - 6ms/step - loss: 99.9187 - val_loss: 147.0306\n",
      "Epoch 57/100\n",
      "23/23 - 0s - 7ms/step - loss: 97.7151 - val_loss: 147.6866\n",
      "Epoch 58/100\n",
      "23/23 - 0s - 7ms/step - loss: 95.5333 - val_loss: 151.2977\n",
      "Epoch 59/100\n",
      "23/23 - 0s - 7ms/step - loss: 93.2337 - val_loss: 140.7443\n",
      "Epoch 60/100\n",
      "23/23 - 0s - 6ms/step - loss: 90.8506 - val_loss: 146.2244\n",
      "Epoch 61/100\n",
      "23/23 - 0s - 7ms/step - loss: 89.9868 - val_loss: 137.7790\n",
      "Epoch 62/100\n",
      "23/23 - 0s - 8ms/step - loss: 87.0332 - val_loss: 143.7148\n",
      "Epoch 63/100\n",
      "23/23 - 0s - 6ms/step - loss: 84.4321 - val_loss: 139.5367\n",
      "Epoch 64/100\n",
      "23/23 - 0s - 7ms/step - loss: 81.8066 - val_loss: 139.9009\n",
      "Epoch 65/100\n",
      "23/23 - 0s - 6ms/step - loss: 78.9227 - val_loss: 144.4775\n",
      "Epoch 66/100\n",
      "23/23 - 0s - 6ms/step - loss: 77.3330 - val_loss: 134.6457\n",
      "Epoch 67/100\n",
      "23/23 - 0s - 6ms/step - loss: 74.3953 - val_loss: 144.9453\n",
      "Epoch 68/100\n",
      "23/23 - 0s - 6ms/step - loss: 73.0362 - val_loss: 134.2524\n",
      "Epoch 69/100\n",
      "23/23 - 0s - 7ms/step - loss: 70.0963 - val_loss: 136.7027\n",
      "Epoch 70/100\n",
      "23/23 - 0s - 7ms/step - loss: 68.2160 - val_loss: 139.1714\n",
      "Epoch 71/100\n",
      "23/23 - 0s - 7ms/step - loss: 66.0243 - val_loss: 136.5381\n",
      "Epoch 72/100\n",
      "23/23 - 0s - 7ms/step - loss: 64.4992 - val_loss: 138.6431\n",
      "Epoch 73/100\n",
      "23/23 - 0s - 6ms/step - loss: 62.4941 - val_loss: 136.8515\n",
      "Epoch 74/100\n",
      "23/23 - 0s - 7ms/step - loss: 61.4686 - val_loss: 134.4999\n",
      "Epoch 75/100\n",
      "23/23 - 0s - 7ms/step - loss: 60.1183 - val_loss: 144.2905\n",
      "Epoch 76/100\n",
      "23/23 - 0s - 6ms/step - loss: 58.0878 - val_loss: 142.1799\n",
      "Epoch 77/100\n",
      "23/23 - 0s - 6ms/step - loss: 56.3086 - val_loss: 139.6815\n",
      "Epoch 78/100\n",
      "23/23 - 0s - 7ms/step - loss: 54.4148 - val_loss: 140.8804\n",
      "Epoch 79/100\n",
      "23/23 - 0s - 6ms/step - loss: 52.6653 - val_loss: 143.7873\n",
      "Epoch 80/100\n",
      "23/23 - 0s - 6ms/step - loss: 51.2981 - val_loss: 140.9382\n",
      "Epoch 81/100\n",
      "23/23 - 0s - 7ms/step - loss: 50.2253 - val_loss: 145.2441\n",
      "Epoch 82/100\n",
      "23/23 - 0s - 7ms/step - loss: 48.5795 - val_loss: 143.3890\n",
      "Epoch 83/100\n",
      "23/23 - 0s - 6ms/step - loss: 47.2702 - val_loss: 140.3896\n",
      "Epoch 84/100\n",
      "23/23 - 0s - 6ms/step - loss: 46.3428 - val_loss: 143.1620\n",
      "Epoch 85/100\n",
      "23/23 - 0s - 6ms/step - loss: 44.9903 - val_loss: 155.7743\n",
      "Epoch 86/100\n",
      "23/23 - 0s - 6ms/step - loss: 45.9669 - val_loss: 141.4583\n",
      "Epoch 87/100\n",
      "23/23 - 0s - 6ms/step - loss: 43.7415 - val_loss: 138.7390\n",
      "Epoch 88/100\n",
      "23/23 - 0s - 6ms/step - loss: 42.7389 - val_loss: 143.6269\n",
      "Epoch 89/100\n",
      "23/23 - 0s - 6ms/step - loss: 41.4010 - val_loss: 155.7664\n",
      "Epoch 90/100\n",
      "23/23 - 0s - 6ms/step - loss: 41.0118 - val_loss: 145.7873\n",
      "Epoch 91/100\n",
      "23/23 - 0s - 6ms/step - loss: 39.9526 - val_loss: 149.0618\n",
      "Epoch 92/100\n",
      "23/23 - 0s - 7ms/step - loss: 39.4194 - val_loss: 144.0255\n",
      "Epoch 93/100\n",
      "23/23 - 0s - 6ms/step - loss: 38.8715 - val_loss: 162.1620\n",
      "Epoch 94/100\n",
      "23/23 - 0s - 7ms/step - loss: 38.1715 - val_loss: 153.2552\n",
      "Epoch 95/100\n",
      "23/23 - 0s - 7ms/step - loss: 37.7848 - val_loss: 154.8800\n",
      "Epoch 96/100\n",
      "23/23 - 0s - 7ms/step - loss: 37.1973 - val_loss: 154.2887\n",
      "Epoch 97/100\n",
      "23/23 - 0s - 7ms/step - loss: 36.1857 - val_loss: 165.8721\n",
      "Epoch 98/100\n",
      "23/23 - 0s - 7ms/step - loss: 35.7109 - val_loss: 148.5454\n",
      "Epoch 99/100\n",
      "23/23 - 0s - 6ms/step - loss: 35.1134 - val_loss: 168.4610\n",
      "Epoch 100/100\n",
      "23/23 - 0s - 6ms/step - loss: 35.0937 - val_loss: 158.4236\n"
     ]
    },
    {
     "data": {
      "text/plain": [
       "<keras.src.callbacks.history.History at 0x7f273637c350>"
      ]
     },
     "execution_count": 18,
     "metadata": {},
     "output_type": "execute_result"
    }
   ],
   "source": [
    "# fit the model\n",
    "model.fit(predictors_norm, target, validation_split=0.3, epochs=100, verbose=2)"
   ]
  },
  {
   "cell_type": "markdown",
   "metadata": {},
   "source": [
    "<strong>You can refer to this [link](https://keras.io/models/sequential/) to learn about other functions that you can use for prediction or evaluation.</strong>\n"
   ]
  },
  {
   "cell_type": "markdown",
   "metadata": {},
   "source": [
    "Feel free to vary the following and note what impact each change has on the model's performance:\n",
    "\n",
    "1. Increase or decreate number of neurons in hidden layers\n",
    "2. Add more hidden layers\n",
    "3. Increase number of epochs\n"
   ]
  },
  {
   "cell_type": "code",
   "execution_count": 19,
   "metadata": {},
   "outputs": [],
   "source": [
    "# Example: Change number of neurons in hidden layers\n",
    "model.add(Dense(100, activation='relu'))  # Increase to 100 neurons\n"
   ]
  },
  {
   "cell_type": "code",
   "execution_count": 20,
   "metadata": {},
   "outputs": [],
   "source": [
    "# Example: Add another hidden layer\n",
    "model.add(Dense(30, activation='relu'))  # Add a new hidden layer with 30 neurons\n"
   ]
  },
  {
   "cell_type": "code",
   "execution_count": 21,
   "metadata": {},
   "outputs": [],
   "source": [
    "from tensorflow.keras.layers import Dropout\n",
    "\n",
    "# Example: Add dropout layer\n",
    "model.add(Dropout(0.3))  # Deactivates 30% of neurons during training\n"
   ]
  },
  {
   "cell_type": "code",
   "execution_count": 22,
   "metadata": {},
   "outputs": [
    {
     "name": "stdout",
     "output_type": "stream",
     "text": [
      "Epoch 1/100\n",
      "23/23 - 0s - 9ms/step - loss: 34.2158 - val_loss: 159.9321\n",
      "Epoch 2/100\n",
      "23/23 - 0s - 7ms/step - loss: 33.6960 - val_loss: 168.4626\n",
      "Epoch 3/100\n",
      "23/23 - 0s - 6ms/step - loss: 33.5934 - val_loss: 157.7046\n",
      "Epoch 4/100\n",
      "23/23 - 0s - 7ms/step - loss: 32.9779 - val_loss: 163.2965\n",
      "Epoch 5/100\n",
      "23/23 - 0s - 6ms/step - loss: 33.4012 - val_loss: 163.0168\n",
      "Epoch 6/100\n",
      "23/23 - 0s - 7ms/step - loss: 32.5414 - val_loss: 163.1573\n",
      "Epoch 7/100\n",
      "23/23 - 0s - 7ms/step - loss: 31.7213 - val_loss: 169.6808\n",
      "Epoch 8/100\n",
      "23/23 - 0s - 6ms/step - loss: 31.8583 - val_loss: 166.4399\n",
      "Epoch 9/100\n",
      "23/23 - 0s - 7ms/step - loss: 30.7459 - val_loss: 162.9697\n",
      "Epoch 10/100\n",
      "23/23 - 0s - 7ms/step - loss: 30.5546 - val_loss: 159.2968\n",
      "Epoch 11/100\n",
      "23/23 - 0s - 6ms/step - loss: 30.4466 - val_loss: 176.2298\n",
      "Epoch 12/100\n",
      "23/23 - 0s - 6ms/step - loss: 30.0935 - val_loss: 165.5340\n",
      "Epoch 13/100\n",
      "23/23 - 0s - 7ms/step - loss: 29.8193 - val_loss: 172.7950\n"
     ]
    },
    {
     "data": {
      "text/plain": [
       "<keras.src.callbacks.history.History at 0x7f272817c250>"
      ]
     },
     "execution_count": 22,
     "metadata": {},
     "output_type": "execute_result"
    }
   ],
   "source": [
    "from tensorflow.keras.callbacks import EarlyStopping\n",
    "\n",
    "# Define early stopping\n",
    "early_stopping = EarlyStopping(monitor='val_loss', patience=10, restore_best_weights=True)\n",
    "\n",
    "# Train with early stopping\n",
    "model.fit(predictors_norm, target, validation_split=0.3, epochs=100, verbose=2, callbacks=[early_stopping])\n"
   ]
  },
  {
   "cell_type": "code",
   "execution_count": 23,
   "metadata": {},
   "outputs": [
    {
     "name": "stdout",
     "output_type": "stream",
     "text": [
      "Epoch 1/50\n",
      "23/23 - 0s - 8ms/step - loss: 33.5791 - val_loss: 155.1771\n",
      "Epoch 2/50\n",
      "23/23 - 0s - 6ms/step - loss: 32.7287 - val_loss: 163.8856\n",
      "Epoch 3/50\n",
      "23/23 - 0s - 7ms/step - loss: 32.3963 - val_loss: 165.6782\n",
      "Epoch 4/50\n",
      "23/23 - 0s - 13ms/step - loss: 31.8057 - val_loss: 162.2749\n",
      "Epoch 5/50\n",
      "23/23 - 0s - 7ms/step - loss: 32.0175 - val_loss: 172.3020\n",
      "Epoch 6/50\n",
      "23/23 - 0s - 6ms/step - loss: 31.3730 - val_loss: 170.9568\n",
      "Epoch 7/50\n",
      "23/23 - 0s - 7ms/step - loss: 30.7469 - val_loss: 166.0178\n",
      "Epoch 8/50\n",
      "23/23 - 0s - 7ms/step - loss: 30.3296 - val_loss: 168.8950\n",
      "Epoch 9/50\n",
      "23/23 - 0s - 7ms/step - loss: 30.2536 - val_loss: 164.9199\n",
      "Epoch 10/50\n",
      "23/23 - 0s - 6ms/step - loss: 30.0231 - val_loss: 174.2541\n",
      "Epoch 11/50\n",
      "23/23 - 0s - 8ms/step - loss: 30.0887 - val_loss: 180.0644\n",
      "Epoch 12/50\n",
      "23/23 - 0s - 6ms/step - loss: 30.0147 - val_loss: 172.9956\n",
      "Epoch 13/50\n",
      "23/23 - 0s - 7ms/step - loss: 29.0711 - val_loss: 166.6403\n",
      "Epoch 14/50\n",
      "23/23 - 0s - 6ms/step - loss: 28.7097 - val_loss: 162.6844\n",
      "Epoch 15/50\n",
      "23/23 - 0s - 6ms/step - loss: 28.7472 - val_loss: 165.2392\n",
      "Epoch 16/50\n",
      "23/23 - 0s - 7ms/step - loss: 28.3253 - val_loss: 171.1639\n",
      "Epoch 17/50\n",
      "23/23 - 0s - 7ms/step - loss: 28.1063 - val_loss: 176.1367\n",
      "Epoch 18/50\n",
      "23/23 - 0s - 7ms/step - loss: 27.7657 - val_loss: 174.1284\n",
      "Epoch 19/50\n",
      "23/23 - 0s - 6ms/step - loss: 27.5422 - val_loss: 171.6594\n",
      "Epoch 20/50\n",
      "23/23 - 0s - 7ms/step - loss: 27.5903 - val_loss: 182.2686\n",
      "Epoch 21/50\n",
      "23/23 - 0s - 7ms/step - loss: 27.0588 - val_loss: 180.2899\n",
      "Epoch 22/50\n",
      "23/23 - 0s - 7ms/step - loss: 27.0156 - val_loss: 178.0522\n",
      "Epoch 23/50\n",
      "23/23 - 0s - 6ms/step - loss: 26.5989 - val_loss: 183.1073\n",
      "Epoch 24/50\n",
      "23/23 - 0s - 6ms/step - loss: 26.5033 - val_loss: 174.4534\n",
      "Epoch 25/50\n",
      "23/23 - 0s - 7ms/step - loss: 26.0582 - val_loss: 182.1766\n",
      "Epoch 26/50\n",
      "23/23 - 0s - 7ms/step - loss: 26.8184 - val_loss: 179.7470\n",
      "Epoch 27/50\n",
      "23/23 - 0s - 6ms/step - loss: 25.6408 - val_loss: 179.0467\n",
      "Epoch 28/50\n",
      "23/23 - 0s - 7ms/step - loss: 25.3781 - val_loss: 184.2657\n",
      "Epoch 29/50\n",
      "23/23 - 0s - 6ms/step - loss: 25.5077 - val_loss: 187.0327\n",
      "Epoch 30/50\n",
      "23/23 - 0s - 6ms/step - loss: 25.1494 - val_loss: 181.3909\n",
      "Epoch 31/50\n",
      "23/23 - 0s - 6ms/step - loss: 24.9676 - val_loss: 184.1944\n",
      "Epoch 32/50\n",
      "23/23 - 0s - 7ms/step - loss: 24.6834 - val_loss: 185.2760\n",
      "Epoch 33/50\n",
      "23/23 - 0s - 7ms/step - loss: 24.8713 - val_loss: 184.6793\n",
      "Epoch 34/50\n",
      "23/23 - 0s - 7ms/step - loss: 24.3895 - val_loss: 190.4012\n",
      "Epoch 35/50\n",
      "23/23 - 0s - 7ms/step - loss: 23.8541 - val_loss: 173.3729\n",
      "Epoch 36/50\n",
      "23/23 - 0s - 7ms/step - loss: 24.4563 - val_loss: 165.9054\n",
      "Epoch 37/50\n",
      "23/23 - 0s - 7ms/step - loss: 24.6777 - val_loss: 176.7782\n",
      "Epoch 38/50\n",
      "23/23 - 0s - 6ms/step - loss: 23.9408 - val_loss: 179.4581\n",
      "Epoch 39/50\n",
      "23/23 - 0s - 8ms/step - loss: 24.0552 - val_loss: 178.7461\n",
      "Epoch 40/50\n",
      "23/23 - 0s - 6ms/step - loss: 23.1150 - val_loss: 199.5423\n",
      "Epoch 41/50\n",
      "23/23 - 0s - 7ms/step - loss: 23.3995 - val_loss: 179.2614\n",
      "Epoch 42/50\n",
      "23/23 - 0s - 6ms/step - loss: 23.1419 - val_loss: 190.6436\n",
      "Epoch 43/50\n",
      "23/23 - 0s - 7ms/step - loss: 23.4971 - val_loss: 186.9355\n",
      "Epoch 44/50\n",
      "23/23 - 0s - 9ms/step - loss: 23.9119 - val_loss: 176.8326\n",
      "Epoch 45/50\n",
      "23/23 - 0s - 8ms/step - loss: 22.6067 - val_loss: 188.7605\n",
      "Epoch 46/50\n",
      "23/23 - 0s - 7ms/step - loss: 22.4659 - val_loss: 174.5894\n",
      "Epoch 47/50\n",
      "23/23 - 0s - 9ms/step - loss: 22.7314 - val_loss: 180.1533\n",
      "Epoch 48/50\n",
      "23/23 - 0s - 7ms/step - loss: 22.7432 - val_loss: 189.8873\n",
      "Epoch 49/50\n",
      "23/23 - 0s - 7ms/step - loss: 22.2027 - val_loss: 188.4325\n",
      "Epoch 50/50\n",
      "23/23 - 0s - 7ms/step - loss: 21.8772 - val_loss: 189.1102\n"
     ]
    },
    {
     "data": {
      "text/plain": [
       "<keras.src.callbacks.history.History at 0x7f273069ff90>"
      ]
     },
     "execution_count": 23,
     "metadata": {},
     "output_type": "execute_result"
    }
   ],
   "source": [
    "# Train for fewer epochs (e.g., 50)\n",
    "model.fit(predictors_norm, target, validation_split=0.3, epochs=50, verbose=2)\n"
   ]
  },
  {
   "cell_type": "code",
   "execution_count": 26,
   "metadata": {},
   "outputs": [
    {
     "name": "stdout",
     "output_type": "stream",
     "text": [
      "Collecting scikit-learn\n",
      "  Downloading scikit_learn-1.6.0-cp311-cp311-manylinux_2_17_x86_64.manylinux2014_x86_64.whl.metadata (18 kB)\n",
      "Requirement already satisfied: numpy>=1.19.5 in /opt/conda/lib/python3.11/site-packages (from scikit-learn) (2.0.2)\n",
      "Collecting scipy>=1.6.0 (from scikit-learn)\n",
      "  Downloading scipy-1.15.0-cp311-cp311-manylinux_2_17_x86_64.manylinux2014_x86_64.whl.metadata (61 kB)\n",
      "\u001b[2K     \u001b[90m━━━━━━━━━━━━━━━━━━━━━━━━━━━━━━━━━━━━━━━━\u001b[0m \u001b[32m62.0/62.0 kB\u001b[0m \u001b[31m7.2 kB/s\u001b[0m eta \u001b[36m0:00:00\u001b[0m:00:01\u001b[0m\n",
      "\u001b[?25hCollecting joblib>=1.2.0 (from scikit-learn)\n",
      "  Downloading joblib-1.4.2-py3-none-any.whl.metadata (5.4 kB)\n",
      "Collecting threadpoolctl>=3.1.0 (from scikit-learn)\n",
      "  Downloading threadpoolctl-3.5.0-py3-none-any.whl.metadata (13 kB)\n",
      "Downloading scikit_learn-1.6.0-cp311-cp311-manylinux_2_17_x86_64.manylinux2014_x86_64.whl (13.5 MB)\n",
      "\u001b[2K   \u001b[90m━━━━━━━━━━━━━━━━━━━━━━━━━━━━━━━━━━━━━━━━\u001b[0m \u001b[32m13.5/13.5 MB\u001b[0m \u001b[31m52.1 MB/s\u001b[0m eta \u001b[36m0:00:00\u001b[0m:00:01\u001b[0m0:01\u001b[0m\n",
      "\u001b[?25hDownloading joblib-1.4.2-py3-none-any.whl (301 kB)\n",
      "\u001b[2K   \u001b[90m━━━━━━━━━━━━━━━━━━━━━━━━━━━━━━━━━━━━━━━━\u001b[0m \u001b[32m301.8/301.8 kB\u001b[0m \u001b[31m13.0 MB/s\u001b[0m eta \u001b[36m0:00:00\u001b[0m\n",
      "\u001b[?25hDownloading scipy-1.15.0-cp311-cp311-manylinux_2_17_x86_64.manylinux2014_x86_64.whl (40.6 MB)\n",
      "\u001b[2K   \u001b[90m━━━━━━━━━━━━━━━━━━━━━━━━━━━━━━━━━━━━━━━━\u001b[0m \u001b[32m40.6/40.6 MB\u001b[0m \u001b[31m12.1 MB/s\u001b[0m eta \u001b[36m0:00:00\u001b[0m:00:01\u001b[0m00:01\u001b[0m\n",
      "\u001b[?25hDownloading threadpoolctl-3.5.0-py3-none-any.whl (18 kB)\n",
      "Installing collected packages: threadpoolctl, scipy, joblib, scikit-learn\n",
      "Successfully installed joblib-1.4.2 scikit-learn-1.6.0 scipy-1.15.0 threadpoolctl-3.5.0\n"
     ]
    }
   ],
   "source": [
    "!pip install scikit-learn\n"
   ]
  },
  {
   "cell_type": "code",
   "execution_count": 27,
   "metadata": {},
   "outputs": [],
   "source": [
    "from sklearn.model_selection import train_test_split\n",
    "\n",
    "# Split predictors and target into training and testing sets\n",
    "X_train, X_test, y_train, y_test = train_test_split(predictors_norm, target, test_size=0.2, random_state=42)\n"
   ]
  },
  {
   "cell_type": "code",
   "execution_count": 29,
   "metadata": {},
   "outputs": [],
   "source": [
    "def regression_model():\n",
    "    # Create the model\n",
    "    model = Sequential()\n",
    "    model.add(Dense(50, activation='relu', input_shape=(n_cols,)))\n",
    "    model.add(Dense(50, activation='relu'))\n",
    "    model.add(Dense(1))  # Output layer for regression\n",
    "    \n",
    "    # Compile the model with metrics\n",
    "    model.compile(optimizer='adam', loss='mean_squared_error', metrics=['mae'])\n",
    "    return model\n"
   ]
  },
  {
   "cell_type": "code",
   "execution_count": 31,
   "metadata": {},
   "outputs": [],
   "source": [
    "def regression_model():\n",
    "    # Create the model\n",
    "    model = Sequential()\n",
    "    model.add(Dense(50, activation='relu', input_shape=(n_cols,)))\n",
    "    model.add(Dense(50, activation='relu'))\n",
    "    model.add(Dense(1))  # Output layer for regression\n",
    "\n",
    "    # Compile the model with metrics\n",
    "    model.compile(optimizer='adam', loss='mean_squared_error', metrics=['mae'])\n",
    "    return model\n"
   ]
  },
  {
   "cell_type": "code",
   "execution_count": 32,
   "metadata": {},
   "outputs": [
    {
     "name": "stdout",
     "output_type": "stream",
     "text": [
      "Epoch 1/100\n"
     ]
    },
    {
     "name": "stderr",
     "output_type": "stream",
     "text": [
      "/opt/conda/lib/python3.11/site-packages/keras/src/layers/core/dense.py:87: UserWarning: Do not pass an `input_shape`/`input_dim` argument to a layer. When using Sequential models, prefer using an `Input(shape)` object as the first layer in the model instead.\n",
      "  super().__init__(activity_regularizer=activity_regularizer, **kwargs)\n"
     ]
    },
    {
     "name": "stdout",
     "output_type": "stream",
     "text": [
      "21/21 - 1s - 56ms/step - loss: 1529.6016 - mae: 35.1339 - val_loss: 1453.6139 - val_mae: 34.9137\n",
      "Epoch 2/100\n",
      "21/21 - 0s - 8ms/step - loss: 1413.1160 - mae: 33.4648 - val_loss: 1318.3593 - val_mae: 32.9797\n",
      "Epoch 3/100\n",
      "21/21 - 0s - 8ms/step - loss: 1237.5818 - mae: 30.8434 - val_loss: 1109.4183 - val_mae: 29.7669\n",
      "Epoch 4/100\n",
      "21/21 - 0s - 8ms/step - loss: 980.9515 - mae: 26.6439 - val_loss: 822.5424 - val_mae: 24.9384\n",
      "Epoch 5/100\n",
      "21/21 - 0s - 7ms/step - loss: 672.5818 - mae: 21.1260 - val_loss: 511.6415 - val_mae: 18.7938\n",
      "Epoch 6/100\n",
      "21/21 - 0s - 7ms/step - loss: 408.6931 - mae: 15.8428 - val_loss: 291.7475 - val_mae: 13.5940\n",
      "Epoch 7/100\n",
      "21/21 - 0s - 7ms/step - loss: 269.8975 - mae: 12.9614 - val_loss: 208.7781 - val_mae: 11.6557\n",
      "Epoch 8/100\n",
      "21/21 - 0s - 7ms/step - loss: 237.6214 - mae: 12.2705 - val_loss: 182.9186 - val_mae: 11.0680\n",
      "Epoch 9/100\n",
      "21/21 - 0s - 8ms/step - loss: 220.8341 - mae: 11.8538 - val_loss: 174.1792 - val_mae: 10.9074\n",
      "Epoch 10/100\n",
      "21/21 - 0s - 7ms/step - loss: 211.6877 - mae: 11.6945 - val_loss: 173.0881 - val_mae: 10.9147\n",
      "Epoch 11/100\n",
      "21/21 - 0s - 7ms/step - loss: 200.3244 - mae: 11.4228 - val_loss: 164.2255 - val_mae: 10.6922\n",
      "Epoch 12/100\n",
      "21/21 - 0s - 7ms/step - loss: 192.8656 - mae: 11.2262 - val_loss: 160.6829 - val_mae: 10.5946\n",
      "Epoch 13/100\n",
      "21/21 - 0s - 7ms/step - loss: 186.5433 - mae: 11.0532 - val_loss: 156.9533 - val_mae: 10.4814\n",
      "Epoch 14/100\n",
      "21/21 - 0s - 7ms/step - loss: 180.6763 - mae: 10.8958 - val_loss: 154.1227 - val_mae: 10.3822\n",
      "Epoch 15/100\n",
      "21/21 - 0s - 7ms/step - loss: 177.0148 - mae: 10.7899 - val_loss: 152.4214 - val_mae: 10.3192\n",
      "Epoch 16/100\n",
      "21/21 - 0s - 7ms/step - loss: 171.3908 - mae: 10.6161 - val_loss: 146.9595 - val_mae: 10.1447\n",
      "Epoch 17/100\n",
      "21/21 - 0s - 8ms/step - loss: 167.6850 - mae: 10.4814 - val_loss: 143.9616 - val_mae: 10.0293\n",
      "Epoch 18/100\n",
      "21/21 - 0s - 7ms/step - loss: 163.7431 - mae: 10.3706 - val_loss: 143.2821 - val_mae: 9.9992\n",
      "Epoch 19/100\n",
      "21/21 - 0s - 7ms/step - loss: 160.6103 - mae: 10.2848 - val_loss: 140.9756 - val_mae: 9.9247\n",
      "Epoch 20/100\n",
      "21/21 - 0s - 8ms/step - loss: 157.5236 - mae: 10.1929 - val_loss: 140.0203 - val_mae: 9.8559\n",
      "Epoch 21/100\n",
      "21/21 - 0s - 7ms/step - loss: 154.9652 - mae: 10.0994 - val_loss: 138.0659 - val_mae: 9.7843\n",
      "Epoch 22/100\n",
      "21/21 - 0s - 7ms/step - loss: 152.6797 - mae: 10.0321 - val_loss: 137.1617 - val_mae: 9.7392\n",
      "Epoch 23/100\n",
      "21/21 - 0s - 7ms/step - loss: 150.0502 - mae: 9.9481 - val_loss: 135.2321 - val_mae: 9.6619\n",
      "Epoch 24/100\n",
      "21/21 - 0s - 7ms/step - loss: 147.9678 - mae: 9.8652 - val_loss: 134.0181 - val_mae: 9.6163\n",
      "Epoch 25/100\n",
      "21/21 - 0s - 6ms/step - loss: 146.4135 - mae: 9.8291 - val_loss: 133.8325 - val_mae: 9.5987\n",
      "Epoch 26/100\n",
      "21/21 - 0s - 7ms/step - loss: 143.9490 - mae: 9.7372 - val_loss: 132.5753 - val_mae: 9.5264\n",
      "Epoch 27/100\n",
      "21/21 - 0s - 7ms/step - loss: 142.2753 - mae: 9.6917 - val_loss: 131.6633 - val_mae: 9.4884\n",
      "Epoch 28/100\n",
      "21/21 - 0s - 7ms/step - loss: 140.6580 - mae: 9.6419 - val_loss: 130.5414 - val_mae: 9.4418\n",
      "Epoch 29/100\n",
      "21/21 - 0s - 7ms/step - loss: 139.6739 - mae: 9.6084 - val_loss: 130.2321 - val_mae: 9.4462\n",
      "Epoch 30/100\n",
      "21/21 - 0s - 6ms/step - loss: 137.5616 - mae: 9.5202 - val_loss: 127.8028 - val_mae: 9.3239\n",
      "Epoch 31/100\n",
      "21/21 - 0s - 6ms/step - loss: 136.0710 - mae: 9.4814 - val_loss: 128.2525 - val_mae: 9.3455\n",
      "Epoch 32/100\n",
      "21/21 - 0s - 7ms/step - loss: 136.0458 - mae: 9.4750 - val_loss: 126.6568 - val_mae: 9.2672\n",
      "Epoch 33/100\n",
      "21/21 - 0s - 7ms/step - loss: 133.7363 - mae: 9.4194 - val_loss: 127.1698 - val_mae: 9.3043\n",
      "Epoch 34/100\n",
      "21/21 - 0s - 7ms/step - loss: 132.0301 - mae: 9.3677 - val_loss: 124.8136 - val_mae: 9.1834\n",
      "Epoch 35/100\n",
      "21/21 - 0s - 7ms/step - loss: 130.9451 - mae: 9.2996 - val_loss: 123.9568 - val_mae: 9.1426\n",
      "Epoch 36/100\n",
      "21/21 - 0s - 6ms/step - loss: 129.6575 - mae: 9.2555 - val_loss: 123.0696 - val_mae: 9.1098\n",
      "Epoch 37/100\n",
      "21/21 - 0s - 6ms/step - loss: 128.2755 - mae: 9.1955 - val_loss: 122.1067 - val_mae: 9.0535\n",
      "Epoch 38/100\n",
      "21/21 - 0s - 7ms/step - loss: 126.8140 - mae: 9.1629 - val_loss: 122.7582 - val_mae: 9.0971\n",
      "Epoch 39/100\n",
      "21/21 - 0s - 7ms/step - loss: 125.5451 - mae: 9.1303 - val_loss: 121.3510 - val_mae: 9.0385\n",
      "Epoch 40/100\n",
      "21/21 - 0s - 7ms/step - loss: 125.5096 - mae: 9.0691 - val_loss: 119.2600 - val_mae: 8.9110\n",
      "Epoch 41/100\n",
      "21/21 - 0s - 7ms/step - loss: 123.4921 - mae: 9.0441 - val_loss: 119.5142 - val_mae: 8.9490\n",
      "Epoch 42/100\n",
      "21/21 - 0s - 7ms/step - loss: 121.4974 - mae: 8.9567 - val_loss: 118.4778 - val_mae: 8.8983\n",
      "Epoch 43/100\n",
      "21/21 - 0s - 7ms/step - loss: 120.7892 - mae: 8.8913 - val_loss: 117.3100 - val_mae: 8.8339\n",
      "Epoch 44/100\n",
      "21/21 - 0s - 8ms/step - loss: 119.2111 - mae: 8.8447 - val_loss: 116.3090 - val_mae: 8.7941\n",
      "Epoch 45/100\n",
      "21/21 - 0s - 7ms/step - loss: 118.3823 - mae: 8.7970 - val_loss: 114.9996 - val_mae: 8.6998\n",
      "Epoch 46/100\n",
      "21/21 - 0s - 7ms/step - loss: 117.1597 - mae: 8.7705 - val_loss: 115.4560 - val_mae: 8.7524\n",
      "Epoch 47/100\n",
      "21/21 - 0s - 6ms/step - loss: 115.6834 - mae: 8.6767 - val_loss: 112.5599 - val_mae: 8.5733\n",
      "Epoch 48/100\n",
      "21/21 - 0s - 7ms/step - loss: 114.1698 - mae: 8.6316 - val_loss: 112.2571 - val_mae: 8.5872\n",
      "Epoch 49/100\n",
      "21/21 - 0s - 7ms/step - loss: 112.9270 - mae: 8.5827 - val_loss: 111.6012 - val_mae: 8.5094\n",
      "Epoch 50/100\n",
      "21/21 - 0s - 8ms/step - loss: 111.6585 - mae: 8.5194 - val_loss: 109.8043 - val_mae: 8.4304\n",
      "Epoch 51/100\n",
      "21/21 - 0s - 7ms/step - loss: 110.4348 - mae: 8.4573 - val_loss: 109.3151 - val_mae: 8.4155\n",
      "Epoch 52/100\n",
      "21/21 - 0s - 6ms/step - loss: 109.1040 - mae: 8.4038 - val_loss: 108.3271 - val_mae: 8.3293\n",
      "Epoch 53/100\n",
      "21/21 - 0s - 7ms/step - loss: 107.9799 - mae: 8.3468 - val_loss: 107.2135 - val_mae: 8.2686\n",
      "Epoch 54/100\n",
      "21/21 - 0s - 7ms/step - loss: 106.3910 - mae: 8.2757 - val_loss: 106.9340 - val_mae: 8.2706\n",
      "Epoch 55/100\n",
      "21/21 - 0s - 7ms/step - loss: 106.0132 - mae: 8.2305 - val_loss: 105.9191 - val_mae: 8.1953\n",
      "Epoch 56/100\n",
      "21/21 - 0s - 7ms/step - loss: 104.8503 - mae: 8.1824 - val_loss: 105.0397 - val_mae: 8.1665\n",
      "Epoch 57/100\n",
      "21/21 - 0s - 7ms/step - loss: 103.3548 - mae: 8.1133 - val_loss: 104.4619 - val_mae: 8.1164\n",
      "Epoch 58/100\n",
      "21/21 - 0s - 6ms/step - loss: 102.1319 - mae: 8.0664 - val_loss: 103.5289 - val_mae: 8.0189\n",
      "Epoch 59/100\n",
      "21/21 - 0s - 7ms/step - loss: 100.8814 - mae: 8.0058 - val_loss: 102.8728 - val_mae: 8.0142\n",
      "Epoch 60/100\n",
      "21/21 - 0s - 7ms/step - loss: 100.1356 - mae: 7.9765 - val_loss: 102.0227 - val_mae: 7.9704\n",
      "Epoch 61/100\n",
      "21/21 - 0s - 7ms/step - loss: 98.8337 - mae: 7.8914 - val_loss: 101.3005 - val_mae: 7.8538\n",
      "Epoch 62/100\n",
      "21/21 - 0s - 7ms/step - loss: 98.0575 - mae: 7.8323 - val_loss: 100.3427 - val_mae: 7.8377\n",
      "Epoch 63/100\n",
      "21/21 - 0s - 8ms/step - loss: 96.8622 - mae: 7.7831 - val_loss: 99.9615 - val_mae: 7.7883\n",
      "Epoch 64/100\n",
      "21/21 - 0s - 7ms/step - loss: 96.0973 - mae: 7.7349 - val_loss: 99.0117 - val_mae: 7.7406\n",
      "Epoch 65/100\n",
      "21/21 - 0s - 7ms/step - loss: 94.9326 - mae: 7.6815 - val_loss: 98.4920 - val_mae: 7.7235\n",
      "Epoch 66/100\n",
      "21/21 - 0s - 7ms/step - loss: 94.0374 - mae: 7.6405 - val_loss: 97.7086 - val_mae: 7.6230\n",
      "Epoch 67/100\n",
      "21/21 - 0s - 7ms/step - loss: 93.3956 - mae: 7.5764 - val_loss: 96.9457 - val_mae: 7.6158\n",
      "Epoch 68/100\n",
      "21/21 - 0s - 7ms/step - loss: 92.4876 - mae: 7.5353 - val_loss: 96.9794 - val_mae: 7.6237\n",
      "Epoch 69/100\n",
      "21/21 - 0s - 7ms/step - loss: 91.5317 - mae: 7.5049 - val_loss: 95.5276 - val_mae: 7.5113\n",
      "Epoch 70/100\n",
      "21/21 - 0s - 7ms/step - loss: 90.8445 - mae: 7.4625 - val_loss: 95.3034 - val_mae: 7.4738\n",
      "Epoch 71/100\n",
      "21/21 - 0s - 7ms/step - loss: 89.6905 - mae: 7.4014 - val_loss: 94.2140 - val_mae: 7.4402\n",
      "Epoch 72/100\n",
      "21/21 - 0s - 7ms/step - loss: 88.5057 - mae: 7.3383 - val_loss: 93.4247 - val_mae: 7.3857\n",
      "Epoch 73/100\n",
      "21/21 - 0s - 7ms/step - loss: 87.6623 - mae: 7.2808 - val_loss: 92.6334 - val_mae: 7.3496\n",
      "Epoch 74/100\n",
      "21/21 - 0s - 7ms/step - loss: 86.7427 - mae: 7.2669 - val_loss: 92.6171 - val_mae: 7.3601\n",
      "Epoch 75/100\n",
      "21/21 - 0s - 7ms/step - loss: 86.2811 - mae: 7.2220 - val_loss: 92.1832 - val_mae: 7.2746\n",
      "Epoch 76/100\n",
      "21/21 - 0s - 7ms/step - loss: 85.2519 - mae: 7.1751 - val_loss: 91.3645 - val_mae: 7.2987\n",
      "Epoch 77/100\n",
      "21/21 - 0s - 7ms/step - loss: 84.4401 - mae: 7.1472 - val_loss: 90.8299 - val_mae: 7.2680\n",
      "Epoch 78/100\n",
      "21/21 - 0s - 6ms/step - loss: 83.8431 - mae: 7.1084 - val_loss: 90.0824 - val_mae: 7.2087\n",
      "Epoch 79/100\n",
      "21/21 - 0s - 7ms/step - loss: 83.1302 - mae: 7.0618 - val_loss: 88.3736 - val_mae: 7.0710\n",
      "Epoch 80/100\n",
      "21/21 - 0s - 8ms/step - loss: 82.2204 - mae: 7.0126 - val_loss: 88.5497 - val_mae: 7.1447\n",
      "Epoch 81/100\n",
      "21/21 - 0s - 6ms/step - loss: 81.4174 - mae: 6.9905 - val_loss: 87.8103 - val_mae: 7.0921\n",
      "Epoch 82/100\n",
      "21/21 - 0s - 8ms/step - loss: 80.3279 - mae: 6.9227 - val_loss: 87.1027 - val_mae: 7.0597\n",
      "Epoch 83/100\n",
      "21/21 - 0s - 7ms/step - loss: 80.1217 - mae: 6.9033 - val_loss: 86.5008 - val_mae: 6.9912\n",
      "Epoch 84/100\n",
      "21/21 - 0s - 8ms/step - loss: 78.7487 - mae: 6.8420 - val_loss: 85.0998 - val_mae: 6.9759\n",
      "Epoch 85/100\n",
      "21/21 - 0s - 7ms/step - loss: 77.9916 - mae: 6.8309 - val_loss: 84.4882 - val_mae: 6.9447\n",
      "Epoch 86/100\n",
      "21/21 - 0s - 8ms/step - loss: 77.2001 - mae: 6.7861 - val_loss: 84.0479 - val_mae: 6.9554\n",
      "Epoch 87/100\n",
      "21/21 - 0s - 8ms/step - loss: 76.3465 - mae: 6.7447 - val_loss: 83.5601 - val_mae: 6.8905\n",
      "Epoch 88/100\n",
      "21/21 - 0s - 7ms/step - loss: 75.8051 - mae: 6.6815 - val_loss: 82.4908 - val_mae: 6.8176\n",
      "Epoch 89/100\n",
      "21/21 - 0s - 7ms/step - loss: 75.1803 - mae: 6.6604 - val_loss: 81.1319 - val_mae: 6.7728\n",
      "Epoch 90/100\n",
      "21/21 - 0s - 7ms/step - loss: 73.8774 - mae: 6.5930 - val_loss: 80.6157 - val_mae: 6.7718\n",
      "Epoch 91/100\n",
      "21/21 - 0s - 7ms/step - loss: 72.9281 - mae: 6.5414 - val_loss: 79.6481 - val_mae: 6.7359\n",
      "Epoch 92/100\n",
      "21/21 - 0s - 7ms/step - loss: 72.5178 - mae: 6.5326 - val_loss: 78.8459 - val_mae: 6.6549\n",
      "Epoch 93/100\n",
      "21/21 - 0s - 6ms/step - loss: 72.0071 - mae: 6.5137 - val_loss: 77.4419 - val_mae: 6.6446\n",
      "Epoch 94/100\n",
      "21/21 - 0s - 7ms/step - loss: 71.2819 - mae: 6.4886 - val_loss: 77.2970 - val_mae: 6.7068\n",
      "Epoch 95/100\n",
      "21/21 - 0s - 6ms/step - loss: 70.1075 - mae: 6.3926 - val_loss: 75.1556 - val_mae: 6.5349\n",
      "Epoch 96/100\n",
      "21/21 - 0s - 7ms/step - loss: 68.6281 - mae: 6.3107 - val_loss: 74.2918 - val_mae: 6.4794\n",
      "Epoch 97/100\n",
      "21/21 - 0s - 7ms/step - loss: 67.8266 - mae: 6.2652 - val_loss: 74.4542 - val_mae: 6.5226\n",
      "Epoch 98/100\n",
      "21/21 - 0s - 7ms/step - loss: 66.1955 - mae: 6.2153 - val_loss: 72.1740 - val_mae: 6.3972\n",
      "Epoch 99/100\n",
      "21/21 - 0s - 6ms/step - loss: 65.1805 - mae: 6.1354 - val_loss: 71.8174 - val_mae: 6.3929\n",
      "Epoch 100/100\n",
      "21/21 - 0s - 7ms/step - loss: 63.8800 - mae: 6.0645 - val_loss: 69.7158 - val_mae: 6.2447\n"
     ]
    }
   ],
   "source": [
    "# Recreate the model\n",
    "model = regression_model()\n",
    "\n",
    "# Train the model\n",
    "history = model.fit(X_train, y_train, validation_split=0.2, epochs=100, verbose=2)\n"
   ]
  },
  {
   "cell_type": "code",
   "execution_count": 33,
   "metadata": {},
   "outputs": [
    {
     "name": "stdout",
     "output_type": "stream",
     "text": [
      "Test Loss: 68.01287841796875\n",
      "Test Mean Absolute Error: 6.56852388381958\n"
     ]
    }
   ],
   "source": [
    "# Evaluate the model\n",
    "results = model.evaluate(X_test, y_test, verbose=0)\n",
    "\n",
    "# Check results\n",
    "if isinstance(results, (list, tuple)):\n",
    "    loss, mae = results\n",
    "    print(f\"Test Loss: {loss}\")\n",
    "    print(f\"Test Mean Absolute Error: {mae}\")\n",
    "else:\n",
    "    print(f\"Test Loss: {results}\")  # If only loss is returned\n"
   ]
  },
  {
   "cell_type": "code",
   "execution_count": 34,
   "metadata": {},
   "outputs": [
    {
     "name": "stdout",
     "output_type": "stream",
     "text": [
      "\u001b[1m7/7\u001b[0m \u001b[32m━━━━━━━━━━━━━━━━━━━━\u001b[0m\u001b[37m\u001b[0m \u001b[1m0s\u001b[0m 7ms/step \n",
      "[[48.865204]\n",
      " [49.19633 ]\n",
      " [67.3029  ]\n",
      " [48.099262]\n",
      " [16.804104]]\n"
     ]
    }
   ],
   "source": [
    "# Predict on test data\n",
    "predictions = model.predict(X_test)\n",
    "print(predictions[:5])  # Display the first 5 predictions\n"
   ]
  },
  {
   "cell_type": "code",
   "execution_count": 36,
   "metadata": {},
   "outputs": [
    {
     "name": "stdout",
     "output_type": "stream",
     "text": [
      "   Actual  Predicted\n",
      "0   52.91  48.865204\n",
      "1   55.90  49.196331\n",
      "2   74.50  67.302902\n",
      "3   35.30  48.099262\n",
      "4   10.54  16.804104\n"
     ]
    }
   ],
   "source": [
    "# Combine actual and predicted values for comparison\n",
    "import pandas as pd\n",
    "\n",
    "comparison = pd.DataFrame({'Actual': y_test[:5].values, 'Predicted': predictions[:5].flatten()})\n",
    "print(comparison)\n"
   ]
  },
  {
   "cell_type": "code",
   "execution_count": 37,
   "metadata": {},
   "outputs": [
    {
     "name": "stdout",
     "output_type": "stream",
     "text": [
      "Collecting matplotlib\n",
      "  Downloading matplotlib-3.10.0-cp311-cp311-manylinux_2_17_x86_64.manylinux2014_x86_64.whl.metadata (11 kB)\n",
      "Collecting contourpy>=1.0.1 (from matplotlib)\n",
      "  Downloading contourpy-1.3.1-cp311-cp311-manylinux_2_17_x86_64.manylinux2014_x86_64.whl.metadata (5.4 kB)\n",
      "Collecting cycler>=0.10 (from matplotlib)\n",
      "  Downloading cycler-0.12.1-py3-none-any.whl.metadata (3.8 kB)\n",
      "Collecting fonttools>=4.22.0 (from matplotlib)\n",
      "  Downloading fonttools-4.55.3-cp311-cp311-manylinux_2_17_x86_64.manylinux2014_x86_64.whl.metadata (165 kB)\n",
      "\u001b[2K     \u001b[90m━━━━━━━━━━━━━━━━━━━━━━━━━━━━━━━━━━━━━━\u001b[0m \u001b[32m165.1/165.1 kB\u001b[0m \u001b[31m22.6 MB/s\u001b[0m eta \u001b[36m0:00:00\u001b[0m\n",
      "\u001b[?25hCollecting kiwisolver>=1.3.1 (from matplotlib)\n",
      "  Downloading kiwisolver-1.4.8-cp311-cp311-manylinux_2_17_x86_64.manylinux2014_x86_64.whl.metadata (6.2 kB)\n",
      "Requirement already satisfied: numpy>=1.23 in /opt/conda/lib/python3.11/site-packages (from matplotlib) (2.0.2)\n",
      "Requirement already satisfied: packaging>=20.0 in /opt/conda/lib/python3.11/site-packages (from matplotlib) (24.0)\n",
      "Collecting pillow>=8 (from matplotlib)\n",
      "  Downloading pillow-11.1.0-cp311-cp311-manylinux_2_28_x86_64.whl.metadata (9.1 kB)\n",
      "Collecting pyparsing>=2.3.1 (from matplotlib)\n",
      "  Downloading pyparsing-3.2.1-py3-none-any.whl.metadata (5.0 kB)\n",
      "Requirement already satisfied: python-dateutil>=2.7 in /opt/conda/lib/python3.11/site-packages (from matplotlib) (2.9.0)\n",
      "Requirement already satisfied: six>=1.5 in /opt/conda/lib/python3.11/site-packages (from python-dateutil>=2.7->matplotlib) (1.16.0)\n",
      "Downloading matplotlib-3.10.0-cp311-cp311-manylinux_2_17_x86_64.manylinux2014_x86_64.whl (8.6 MB)\n",
      "\u001b[2K   \u001b[90m━━━━━━━━━━━━━━━━━━━━━━━━━━━━━━━━━━━━━━━━\u001b[0m \u001b[32m8.6/8.6 MB\u001b[0m \u001b[31m132.6 MB/s\u001b[0m eta \u001b[36m0:00:00\u001b[0ma \u001b[36m0:00:01\u001b[0m\n",
      "\u001b[?25hDownloading contourpy-1.3.1-cp311-cp311-manylinux_2_17_x86_64.manylinux2014_x86_64.whl (326 kB)\n",
      "\u001b[2K   \u001b[90m━━━━━━━━━━━━━━━━━━━━━━━━━━━━━━━━━━━━━━━━\u001b[0m \u001b[32m326.2/326.2 kB\u001b[0m \u001b[31m47.4 MB/s\u001b[0m eta \u001b[36m0:00:00\u001b[0m\n",
      "\u001b[?25hDownloading cycler-0.12.1-py3-none-any.whl (8.3 kB)\n",
      "Downloading fonttools-4.55.3-cp311-cp311-manylinux_2_17_x86_64.manylinux2014_x86_64.whl (4.9 MB)\n",
      "\u001b[2K   \u001b[90m━━━━━━━━━━━━━━━━━━━━━━━━━━━━━━━━━━━━━━━━\u001b[0m \u001b[32m4.9/4.9 MB\u001b[0m \u001b[31m120.8 MB/s\u001b[0m eta \u001b[36m0:00:00\u001b[0m00:01\u001b[0m\n",
      "\u001b[?25hDownloading kiwisolver-1.4.8-cp311-cp311-manylinux_2_17_x86_64.manylinux2014_x86_64.whl (1.4 MB)\n",
      "\u001b[2K   \u001b[90m━━━━━━━━━━━━━━━━━━━━━━━━━━━━━━━━━━━━━━━━\u001b[0m \u001b[32m1.4/1.4 MB\u001b[0m \u001b[31m89.5 MB/s\u001b[0m eta \u001b[36m0:00:00\u001b[0m\n",
      "\u001b[?25hDownloading pillow-11.1.0-cp311-cp311-manylinux_2_28_x86_64.whl (4.5 MB)\n",
      "\u001b[2K   \u001b[90m━━━━━━━━━━━━━━━━━━━━━━━━━━━━━━━━━━━━━━━━\u001b[0m \u001b[32m4.5/4.5 MB\u001b[0m \u001b[31m114.3 MB/s\u001b[0m eta \u001b[36m0:00:00\u001b[0m00:01\u001b[0m\n",
      "\u001b[?25hDownloading pyparsing-3.2.1-py3-none-any.whl (107 kB)\n",
      "\u001b[2K   \u001b[90m━━━━━━━━━━━━━━━━━━━━━━━━━━━━━━━━━━━━━━━━\u001b[0m \u001b[32m107.7/107.7 kB\u001b[0m \u001b[31m15.2 MB/s\u001b[0m eta \u001b[36m0:00:00\u001b[0m\n",
      "\u001b[?25hInstalling collected packages: pyparsing, pillow, kiwisolver, fonttools, cycler, contourpy, matplotlib\n",
      "Successfully installed contourpy-1.3.1 cycler-0.12.1 fonttools-4.55.3 kiwisolver-1.4.8 matplotlib-3.10.0 pillow-11.1.0 pyparsing-3.2.1\n"
     ]
    }
   ],
   "source": [
    "!pip install matplotlib\n"
   ]
  },
  {
   "cell_type": "code",
   "execution_count": 38,
   "metadata": {},
   "outputs": [
    {
     "ename": "NameError",
     "evalue": "name 'plt' is not defined",
     "output_type": "error",
     "traceback": [
      "\u001b[0;31m---------------------------------------------------------------------------\u001b[0m",
      "\u001b[0;31mNameError\u001b[0m                                 Traceback (most recent call last)",
      "Cell \u001b[0;32mIn[38], line 2\u001b[0m\n\u001b[1;32m      1\u001b[0m \u001b[38;5;66;03m# Example: Plot training and validation loss\u001b[39;00m\n\u001b[0;32m----> 2\u001b[0m \u001b[43mplt\u001b[49m\u001b[38;5;241m.\u001b[39mplot(history\u001b[38;5;241m.\u001b[39mhistory[\u001b[38;5;124m'\u001b[39m\u001b[38;5;124mloss\u001b[39m\u001b[38;5;124m'\u001b[39m], label\u001b[38;5;241m=\u001b[39m\u001b[38;5;124m'\u001b[39m\u001b[38;5;124mTraining Loss\u001b[39m\u001b[38;5;124m'\u001b[39m)\n\u001b[1;32m      3\u001b[0m plt\u001b[38;5;241m.\u001b[39mplot(history\u001b[38;5;241m.\u001b[39mhistory[\u001b[38;5;124m'\u001b[39m\u001b[38;5;124mval_loss\u001b[39m\u001b[38;5;124m'\u001b[39m], label\u001b[38;5;241m=\u001b[39m\u001b[38;5;124m'\u001b[39m\u001b[38;5;124mValidation Loss\u001b[39m\u001b[38;5;124m'\u001b[39m)\n\u001b[1;32m      4\u001b[0m plt\u001b[38;5;241m.\u001b[39mxlabel(\u001b[38;5;124m'\u001b[39m\u001b[38;5;124mEpochs\u001b[39m\u001b[38;5;124m'\u001b[39m)\n",
      "\u001b[0;31mNameError\u001b[0m: name 'plt' is not defined"
     ]
    }
   ],
   "source": [
    "# Example: Plot training and validation loss\n",
    "plt.plot(history.history['loss'], label='Training Loss')\n",
    "plt.plot(history.history['val_loss'], label='Validation Loss')\n",
    "plt.xlabel('Epochs')\n",
    "plt.ylabel('Loss')\n",
    "plt.legend()\n",
    "plt.title('Model Loss Over Epochs')\n",
    "plt.show()\n"
   ]
  },
  {
   "cell_type": "markdown",
   "metadata": {},
   "source": [
    "### Thank you for completing this lab!\n",
    "\n",
    "This notebook was created by [Alex Aklson](https://www.linkedin.com/in/aklson/). I hope you found this lab interesting and educational. Feel free to contact me if you have any questions!\n"
   ]
  },
  {
   "cell_type": "code",
   "execution_count": null,
   "metadata": {},
   "outputs": [],
   "source": []
  },
  {
   "cell_type": "markdown",
   "metadata": {},
   "source": [
    "<!--\n",
    "## Change Log\n",
    "\n",
    "|  Date (YYYY-MM-DD) |  Version | Changed By  |  Change Description |\n",
    "|---|---|---|---|\n",
    "| 2024-11-20  | 3.0  | Aman  |  Updated the library versions to current |\n",
    "| 2020-09-21  | 2.0  | Srishti  |  Migrated Lab to Markdown and added to course repo in GitLab |\n",
    "\n",
    "\n",
    "\n",
    "<hr>\n",
    "\n",
    "## <h3 align=\"center\"> © IBM Corporation. All rights reserved. <h3/>\n"
   ]
  },
  {
   "cell_type": "markdown",
   "metadata": {},
   "source": [
    "<hr>\n",
    "\n",
    "Copyright &copy; [IBM Developer Skills Network](https://cognitiveclass.ai/?utm_source=bducopyrightlink&utm_medium=dswb&utm_campaign=bdu). This notebook and its source code are released under the terms of the [MIT License](https://opensource.org/license/mit).\n"
   ]
  },
  {
   "cell_type": "code",
   "execution_count": null,
   "metadata": {},
   "outputs": [],
   "source": []
  }
 ],
 "metadata": {
  "kernelspec": {
   "display_name": "Python 3 (ipykernel)",
   "language": "python",
   "name": "python3"
  },
  "language_info": {
   "codemirror_mode": {
    "name": "ipython",
    "version": 3
   },
   "file_extension": ".py",
   "mimetype": "text/x-python",
   "name": "python",
   "nbconvert_exporter": "python",
   "pygments_lexer": "ipython3",
   "version": "3.11.9"
  },
  "prev_pub_hash": "2ab6b5dee853e752327ec5aea92a88a55ca7798d1bf8f8f9f3350d0e187a1d54"
 },
 "nbformat": 4,
 "nbformat_minor": 4
}
